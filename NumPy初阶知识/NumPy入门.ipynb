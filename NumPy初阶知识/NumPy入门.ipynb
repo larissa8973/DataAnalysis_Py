{
 "cells": [
  {
   "attachments": {},
   "cell_type": "markdown",
   "metadata": {},
   "source": [
    "## NumPy 入门\n",
    "1. 简介\n",
    "2. 数据类型及基础操作\n",
    "    1. [NumPy的数据类型表格图片](http://124.220.164.99:8090/archives/python拓展之numpy#2.1-ndarray-数据类型)\n",
    "    2. Ndarray 对象\n",
    "    3. 创建数组\n",
    "    4. Numpy数组的属性\n",
    "    5. 切片与索引\n",
    "    6. NumPy 数组操作\n",
    "3. [NumPy 常用函数](http://124.220.164.99:8090/archives/python拓展之numpy#三、numpy的函数与常用功能)\n",
    "    - [字符串函数](http://124.220.164.99:8090/archives/python拓展之numpy#3.1-numpy-字符串函数)\n",
    "    1. 数组的集合操作\n",
    "    2. 数学函数\n",
    "    3. 统计函数\n",
    "    4. 线性代数\n",
    "    5. 排序与取索引函数\n",
    "    6. 副本与视图\n",
    "4. NumPy 和 Matplotlib 数据可视化\n",
    "    - [NumPy 和 Matplotlib](http://124.220.164.99:8090/archives/python拓展之numpy#四、numpy-matplotlib)\n",
    "5. 使用数组进行面向数组编程\n",
    "6. 使用数组进行文件输入和输出\n",
    "7. 随机漫步\n",
    "    - [随机漫步的模拟](https://en.wikipedia.org/wiki/Random_walk)\n"
   ]
  },
  {
   "attachments": {},
   "cell_type": "markdown",
   "metadata": {},
   "source": [
    "# 1.简介\n",
    "- NumPy(Numerical Python) 是 Python 语言的一个运行速度非常快的扩展程序库，支持大量的维度数组与矩阵运算，此外也针对数组运算提供大量的数学函数库\n",
    "\n",
    "- NumPy 通常与 SciPy（Scientific Python）和 Matplotlib（绘图库）一起使用， 这种组合广泛用于替代 MatLab，是一个强大的科学计算环境，有助于我们通过 Python 学习数据科学或者机器学习\n",
    "\n",
    "    - SciPy 是一个开源的 Python 算法库和数学工具包。 SciPy 包含的模块有最优化、线性代数、积分、插值、特殊函数、快速傅里叶变换、信号处理和图像处理、常微分方程求解和其他科学与工程中常用的计算\n",
    "\n",
    "    - Matplotlib 是 Python 编程语言及其数值数学扩展包 NumPy 的可视化操作界面。它为利用通用的图形用户界面工具包，如 Tkinter, wxPython, Qt 或 GTK+ 向应用程序嵌入式绘图提供了应用程序接口（API）\n",
    "\n",
    "- Python 的 List 和 NumPy中的数组对比：\n",
    "\n",
    "    - Python的列表是异构的，因此列表的元素可以包含任何对象类型。\n",
    "\n",
    "    - NumPy数组是同质的(即数组中的数据项的类型必须一致)，只能存放同一种类型的对象，便于我们直接确定存储数组所需空间大小。数组由两部分构成：\n",
    "        - 存储在连续的内存块中的**实际数据**\n",
    "        - 描述实际数据的**元数据**\n",
    "        NumPy 中的**大部分数组方法和函数都不会直接修改实际数据，而只能修改元数据**\n",
    "    \n",
    "    - Python的列表通常需要借助循环遍历元素并逐个处理，而NumPy使用了优化过的**C API**，所以运算速度很快\n",
    "\n"
   ]
  },
  {
   "attachments": {},
   "cell_type": "markdown",
   "metadata": {},
   "source": [
    "# 2.数据类型及基础操作"
   ]
  },
  {
   "attachments": {},
   "cell_type": "markdown",
   "metadata": {},
   "source": [
    "## 2.1 [NumPy的数据类型表格图片](http://124.220.164.99:8090/archives/python拓展之numpy#2.1-ndarray-数据类型)\n",
    "- 📢注意：\n",
    "    - 不能把复数类型转化成整型或浮点型，否则会报错 `TypeError`, 但浮点数是可以转化成复数的\n",
    "- `dtype`是NumPy能与其他系统数据灵活交互的原因，因为其多种数据类型使得利用C语言或Fortran等底层语言读写数据时十分方便\n",
    "\n",
    "\n",
    "|类型|类型代码|描述|\n",
    "|:--:|:--:|:--:|\n",
    "|int8, uint8|i1, u1|有符号和无符号的8数位整数|\n",
    "|int16, uint16|i2, u2|有符号和无符号的16数位整数|\n",
    "|int32, uint32|i4, u4|···|\n",
    "|int64, uint64|i8, u8|···|\n",
    "|float16|f2|半精度浮点数|\n",
    "|float32|f4或f|标准单精度浮点数；兼容C语言float|\n",
    "|float64|f8或d|标准双精度浮点数；兼容C语言double和Python float|\n",
    "|float128|f16或g|拓展精度浮点数|\n",
    "|complex64, complex128, complex256|c8, c16, c32|分别基于32位、64位、128位浮点数的复数|\n",
    "|bool|?|布尔值，存储True或False|\n",
    "|object|o|Python object类型|\n",
    "|string_|S|修正的ASC II字符串类型|\n",
    "|unicode_|U|修正的Unicode类型，生成一个长度为10的Unicode类型，使用“U10”|\n"
   ]
  },
  {
   "attachments": {},
   "cell_type": "markdown",
   "metadata": {},
   "source": [
    "## 2.2 Ndarray 对象\n",
    "- `numpy.array(object, dtype = None, copy = True, order = None, subok = False, ndmin = 0)`\n",
    "\n",
    "- N 维数组对象 ndarray，它是一系列同类型数据的集合，以 0 下标为开始进行集合中元素的索引\n",
    "\n",
    "- ndarray 中的每个元素在内存中都有相同存储大小的区域\n",
    "\n",
    "> <font color='yellow'> 参数描述：</font>\n",
    "> - object 数组或嵌套的数列\n",
    ">\n",
    "> - dtype 数组元素的数据类型，可选。\n",
    ">   - **类 dtype**的属性str中保存的是一个表示数据类型的字符串，第一个字符串描述*字节顺序*，如果需要，后面会跟着字符码和数字，用来表示存储每个数组所需的字节数\n",
    ">       - 字节顺序规定了32位或64位字内部各个字节的存储顺序。对于大端顺序(big-endian)，先存放权重最高的字节，用 `>` 指出；对于小端顺序(little-endian)，先存放权重最低的字节，用 `<` 指出\n",
    ">\n",
    "> - copy 对象是否需要复制，可选\n",
    ">\n",
    "> - order 创建数组的样式，C为行方向，F为列方向，A为任意方向（默认）\n",
    "> \n",
    "> - subok 默认返回一个与基类类型一致的数组\n",
    ">\n",
    "> - ndmin 指定生成数组的最小维度\n",
    ">\n",
    "> - 补充：除了上述属性外，ndarray类型还有很多属性：\n",
    ">   - `size` 属性保存元素数量\n",
    ">   - `itemsize` 属性返回数组中各元素所占用的字节数\n",
    ">   - `T` 属性的作用与 `transpose()` 函数相同\n",
    ">   - `flat` 属性可返回一个 `numpy.flatier` 对象，这是获得 `flatier` 对象的唯一方法。我们可使用 `flat` 的迭代器来遍历数组，要注意的是：如果用 `flat` 属性迭代赋值，则该值会覆盖这个数组内的所有元素的值\n",
    "\n",
    "<font color='yellow'>下列为常见的数据类型及其字符码：(注：`np.sctypeDict.keys()` 可以列出所有数据类型的字节码)</font>\n",
    "\n",
    "|类型|字符码|\n",
    "|:--:|:--:|\n",
    "|整型|i|\n",
    "|无符号整型|u|\n",
    "|单精度浮点型|f|\n",
    "|双精度浮点型|d|\n",
    "|布尔型|b|\n",
    "|复数型|D|\n",
    "|字符串|S|\n",
    "|万国码(unicode)|U|\n",
    "|空类型(Void)|V|"
   ]
  },
  {
   "cell_type": "code",
   "execution_count": 1,
   "metadata": {},
   "outputs": [
    {
     "name": "stdout",
     "output_type": "stream",
     "text": [
      "[1 2 3]\n",
      "[[1 2]\n",
      " [3 4]]\n",
      "[[1 2 3 4 5]]\n"
     ]
    }
   ],
   "source": [
    "import numpy as np \n",
    "\n",
    "# 一维，输出：[1 2 3]\n",
    "a = np.array([1,2,3])  \n",
    "print (a)\n",
    " \n",
    "# 二维，输出：[[1, 2], [3, 4]] \n",
    "a = np.array([[1,  2],  [3,  4]])  \n",
    "print (a)\n",
    "\n",
    "# 最小维度为二维   \n",
    "a = np.array([1, 2, 3, 4, 5], ndmin =  2)  \n",
    "print (a)"
   ]
  },
  {
   "attachments": {},
   "cell_type": "markdown",
   "metadata": {},
   "source": [
    "- NumPy数组转换成Python列表，使用函数 `tolist()` "
   ]
  },
  {
   "cell_type": "code",
   "execution_count": 69,
   "metadata": {},
   "outputs": [
    {
     "name": "stdout",
     "output_type": "stream",
     "text": [
      "[1.+1.j 3.+2.j] \n",
      "\n",
      "<class 'numpy.ndarray'>\n"
     ]
    }
   ],
   "source": [
    "import numpy as np\n",
    "\n",
    "b = np.array([ 1.+1.j, 3.+2.j])\n",
    "b.tolist()\n",
    "print(b, '\\n')\n",
    "print(type(b))"
   ]
  },
  {
   "attachments": {},
   "cell_type": "markdown",
   "metadata": {},
   "source": [
    "- `astype()` 函数可以把数组元素转换成指定类型\n"
   ]
  },
  {
   "cell_type": "code",
   "execution_count": null,
   "metadata": {},
   "outputs": [],
   "source": [
    "import numpy as np\n",
    "\n",
    "b = np.array([ 1.+1.j, 3.+2.j])\n",
    "b.astype(int)                           # 当 complex 类型转换成 int 类型时，虚部被丢弃，此时会有ComplexWarning\n",
    "print(b, '\\n')\n",
    "print(type(b))\n",
    "\n",
    "b.astype('complex')                     # 将数据类型的名字以字符串的形式传递给 astype() 函数\n",
    "print(b, '\\n')\n",
    "print(type(b))"
   ]
  },
  {
   "attachments": {},
   "cell_type": "markdown",
   "metadata": {},
   "source": [
    "## 2.3 创建数组\n",
    "\n",
    "> ##### ndarray 数组除了可以使用底层 ndarray 构造器来创建外，也可以通过以下几种方式来创建:\n",
    "> \n",
    "> - `numpy.empty(shape, dtype = float, order = 'C')`\n",
    ">\n",
    "> - `numpy.zeros(shape, dtype = float, order = 'C')`\n",
    ">\n",
    "> - `numpy.ones(shape, dtype = None, order = 'C')`\n",
    ">\n",
    "> - `numpy.asarray(a, dtype = None, order = None)`\n",
    ">\n",
    "> - `numpy.arange(start, stop, step, dtype)`\n",
    ">\n",
    "> - `np.linspace(start, stop, num=50, endpoint=True, retstep=False, dtype=None)`\n",
    ">\n",
    "> - `np.logspace(start, stop, num=50, endpoint=True, base=10.0, dtype=None)`"
   ]
  },
  {
   "attachments": {},
   "cell_type": "markdown",
   "metadata": {},
   "source": [
    "- `numpy.empty(shape, dtype = float, order = 'C')` 创建一个**指定形状（shape）、数据类型（dtype）且未初始化**的数组："
   ]
  },
  {
   "cell_type": "code",
   "execution_count": 3,
   "metadata": {},
   "outputs": [
    {
     "name": "stdout",
     "output_type": "stream",
     "text": [
      "[[-9223372036854775808 -9223372036854775808]\n",
      " [                   3                    0]\n",
      " [                   0      844424930131968]]\n"
     ]
    }
   ],
   "source": [
    "# 数组元素为随机值，因为它们未初始化。\n",
    "\n",
    "import numpy as np \n",
    "x = np.empty([3,2], dtype = int) \n",
    "print (x)\n"
   ]
  },
  {
   "attachments": {},
   "cell_type": "markdown",
   "metadata": {},
   "source": [
    "- `numpy.zeros(shape, dtype = float, order = 'C')` 创建**指定大小的数组，数组元素以 0 来填充**："
   ]
  },
  {
   "cell_type": "code",
   "execution_count": null,
   "metadata": {},
   "outputs": [],
   "source": [
    "# 设置类型为整数\n",
    "\n",
    "y = np.zeros((5), dtype = int) \n",
    "print(y)\n"
   ]
  },
  {
   "attachments": {},
   "cell_type": "markdown",
   "metadata": {},
   "source": [
    "- `numpy.ones(shape, dtype = None, order = 'C')` 创建**指定形状的数组，数组元素以 1 来填充**："
   ]
  },
  {
   "cell_type": "code",
   "execution_count": null,
   "metadata": {},
   "outputs": [],
   "source": [
    "# 默认为浮点数，输出为：[1. 1. 1. 1. 1.]\n",
    "\n",
    "x = np.ones(5) \n",
    "print(x)\n"
   ]
  },
  {
   "attachments": {},
   "cell_type": "markdown",
   "metadata": {},
   "source": [
    "- `numpy.asarray(a, dtype = None, order = None)` \n",
    "\n",
    "- 参数a可以是任意形式的输入参数：列表, 列表的元组, 元组, 元组的元组, 元组的列表，多维数组"
   ]
  },
  {
   "cell_type": "code",
   "execution_count": 5,
   "metadata": {},
   "outputs": [
    {
     "name": "stdout",
     "output_type": "stream",
     "text": [
      "[1 2 3]\n"
     ]
    }
   ],
   "source": [
    "\n",
    "x =  [1,2,3] \n",
    "a = np.asarray(x)  \n",
    "print (a)\n"
   ]
  },
  {
   "attachments": {},
   "cell_type": "markdown",
   "metadata": {},
   "source": [
    "- `numpy.arange(start, stop, step, dtype)` 创建**数值范围**并返回 ndarray 对象"
   ]
  },
  {
   "cell_type": "code",
   "execution_count": null,
   "metadata": {},
   "outputs": [],
   "source": [
    "# dtype\t返回ndarray的数据类型，如果没有提供，则会使用输入数据的类型。\n",
    "\n",
    "# 生成 0 到 5 的数组: \n",
    "x = np.arange(5)  \n",
    "print (x)\n",
    "\n",
    "# 设置了起始值、终止值及步长：\n",
    "x = np.arange(10, 20, 2)  \n",
    "print (x)\n"
   ]
  },
  {
   "attachments": {},
   "cell_type": "markdown",
   "metadata": {},
   "source": [
    "- `np.linspace(start, stop, num=50, endpoint=True, retstep=False, dtype=None)` 创建一个**由等差数列构成的一维数组**\n",
    "\n",
    "- num 要生成的等步长的样本数量，默认为50\n",
    "- endpoint 该值为 true 时，数列中包含stop值，反之不包含，默认是True。\n",
    "- retstep 如果为 True 时，生成的数组中会显示间距，反之不显示。"
   ]
  },
  {
   "cell_type": "code",
   "execution_count": null,
   "metadata": {},
   "outputs": [],
   "source": [
    "# 返回浮点数，输出：[10. 12. 14. 16. 18.]\n",
    "\n",
    "a = np.linspace(10, 20,  5, endpoint =  False)  \n",
    "print(a)\n"
   ]
  },
  {
   "attachments": {},
   "cell_type": "markdown",
   "metadata": {},
   "source": [
    "- `np.logspace(start, stop, num=50, endpoint=True, base=10.0, dtype=None)` 创建一个**等比数列**"
   ]
  },
  {
   "cell_type": "code",
   "execution_count": null,
   "metadata": {},
   "outputs": [],
   "source": [
    "# 默认底数是 10\n",
    "\n",
    "a = np.logspace(1.0,  2.0, num =  10)  \n",
    "print (a)\n"
   ]
  },
  {
   "attachments": {},
   "cell_type": "markdown",
   "metadata": {},
   "source": [
    "## 2.4 NumPy 数组的属性\n",
    "- NumPy 数组的维数称为秩（rank），秩就是轴（axis）的数量，即数组的维度（dimensions）\n",
    "- 一维数组的秩为1，二维数组的秩为2，以此类推\n",
    "- [重要属性表格图片](http://124.220.164.99:8090/archives/python拓展之numpy#2.4-numpy-数组属性)\n"
   ]
  },
  {
   "cell_type": "code",
   "execution_count": null,
   "metadata": {},
   "outputs": [],
   "source": [
    "import numpy as np \n",
    " \n",
    "a = np.arange(24)  \n",
    "print (a.ndim)             # a 现只有一个维度\n",
    "# 现在调整其大小\n",
    "b = a.reshape(2,4,3)       # b 现在拥有三个维度\n",
    "print (b.ndim)\n",
    "print (b.shape)            # 输出：(2, 4, 3)\n",
    "\n",
    "print (b)\n",
    "\"\"\" 输出：[[[ 0  1  2]\n",
    "  [ 3  4  5]\n",
    "  [ 6  7  8]\n",
    "  [ 9 10 11]]\n",
    "\n",
    " [[12 13 14]\n",
    "  [15 16 17]\n",
    "  [18 19 20]\n",
    "  [21 22 23]]] \"\"\"\n"
   ]
  },
  {
   "attachments": {},
   "cell_type": "markdown",
   "metadata": {},
   "source": [
    "## 2.5 索引与切片\n",
    "<font color='red'>📢注意：区别于Python内建列表，数组的切片是原数组的视图，任何对于视图的修改都会反映到原数组上。</font>\n",
    "如果需要对数据的拷贝而不是一份视图的话，则需命令 `arr[start:end].copy()`\n",
    "- 标量索引：ndarray 数组可以基于0-n的下标进行索引，切片对象可以通过内置的 slice 函数\n",
    "\n",
    "- 整数数组索引\n",
    "\n",
    "- 布尔索引\n",
    "\n",
    "- 花式索引\n",
    "\n",
    "- 神奇索引（类似于广播机制）\n"
   ]
  },
  {
   "attachments": {},
   "cell_type": "markdown",
   "metadata": {},
   "source": [
    "### 2.5.1 标量索引"
   ]
  },
  {
   "cell_type": "code",
   "execution_count": null,
   "metadata": {},
   "outputs": [],
   "source": [
    "import numpy as np\n",
    " \n",
    "# 一维数组 \n",
    "a = np.arange(10)\n",
    "s = slice(2, 7, 2)      # slice(start, stop, step)\n",
    "b = a[2:7:2]\n",
    "# 使用 slice 函数和直接对数组进行索引切片所的结果一致\n",
    "print(b == a[s])        # 输出为：[ True  True  True]\n",
    "\n",
    "# 多维数组\n",
    "a = np.array([[1,2,3], [3,4,5], [4,5,6]])\n",
    "print(a)\n",
    "print('从数组索引 a[1:] 处开始切割')\n",
    "print(a[1:])\n",
    "\n",
    "\"\"\" 输出：\n",
    "[[3 4 5]\n",
    " [4 5 6]] \"\"\"\n"
   ]
  },
  {
   "attachments": {},
   "cell_type": "markdown",
   "metadata": {},
   "source": [
    "### 2.5.2 整数数组索引"
   ]
  },
  {
   "cell_type": "code",
   "execution_count": null,
   "metadata": {},
   "outputs": [],
   "source": [
    "import numpy as np \n",
    " \n",
    "x = np.array([[1,  2], [3,  4], [5,  6]]) \n",
    "y = x[[0,1,2], [0,1,0]]         # 获取(0, 0)、(1, 1)、(2, 0)位置的元素\n",
    "print(y)                        # 输出为：[1 4 5]\n"
   ]
  },
  {
   "attachments": {},
   "cell_type": "markdown",
   "metadata": {},
   "source": [
    "### 2.5.3 布尔索引\n",
    "\n",
    "*提醒：使用布尔值索引选择数据时，总是生成数据的拷贝，即使返回的数组并没有任何变化"
   ]
  },
  {
   "cell_type": "code",
   "execution_count": null,
   "metadata": {},
   "outputs": [],
   "source": [
    "import numpy as np \n",
    " \n",
    "x = np.array([[  0,  1,  2],[  3,  4,  5],[  6,  7,  8],[  9,  10,  11]])  \n",
    "print ('原数组是：')\n",
    "print (x)\n",
    "print ('\\n')\n",
    "# 现在我们会打印出大于 5 的元素  \n",
    "print  ('大于 5 的元素是：')\n",
    "print (x[x > 5])                # 输出为：[ 6  7  8  9 10 11]\n"
   ]
  },
  {
   "cell_type": "code",
   "execution_count": 21,
   "metadata": {},
   "outputs": [
    {
     "name": "stdout",
     "output_type": "stream",
     "text": [
      "['Bob' 'Joe' 'Will' 'Bob' 'Will' 'Joe' 'Joe']\n",
      "\n",
      " [[-1.03021516 -0.1730477  -1.93850598  0.13185043]\n",
      " [ 0.21355913 -0.08897823 -0.06255113  0.39975208]\n",
      " [-1.79035865 -0.32896284 -1.19485915  0.08200012]\n",
      " [-0.55033204  0.55214462 -0.3753065   0.6927362 ]\n",
      " [ 0.67479132 -0.28215896 -1.76118622 -1.5184324 ]\n",
      " [-1.11428434  0.77507083 -0.79592785 -1.62213746]\n",
      " [ 0.62845594  1.28303931  0.40915597  0.22876348]]\n",
      "\n",
      "===========================布尔数组索引===========================\n",
      "[ True False False  True False False False]\n",
      "\n",
      "数组元素依次与字符串Bool后结果:  \n",
      " [[-1.03021516 -0.1730477  -1.93850598  0.13185043]\n",
      " [-0.55033204  0.55214462 -0.3753065   0.6927362 ]]\n",
      "\n",
      "除了该字符串以外的其他数组元素:  \n",
      " [[ 0.21355913 -0.08897823 -0.06255113  0.39975208]\n",
      " [-1.79035865 -0.32896284 -1.19485915  0.08200012]\n",
      " [ 0.67479132 -0.28215896 -1.76118622 -1.5184324 ]\n",
      " [-1.11428434  0.77507083 -0.79592785 -1.62213746]\n",
      " [ 0.62845594  1.28303931  0.40915597  0.22876348]]\n",
      "\n",
      "布尔数值索引切片:  \n",
      " [[-1.03021516 -0.1730477 ]\n",
      " [-0.55033204  0.55214462]]\n",
      "\n",
      "将除了'Joe'以外的数组元素设置为其他数值:  \n",
      " [[ 7.          7.          7.          7.        ]\n",
      " [ 0.21355913 -0.08897823 -0.06255113  0.39975208]\n",
      " [ 7.          7.          7.          7.        ]\n",
      " [ 7.          7.          7.          7.        ]\n",
      " [ 7.          7.          7.          7.        ]\n",
      " [-1.11428434  0.77507083 -0.79592785 -1.62213746]\n",
      " [ 0.62845594  1.28303931  0.40915597  0.22876348]]\n"
     ]
    }
   ],
   "source": [
    "import numpy as np\n",
    "\n",
    "#考虑以下例子：\n",
    "names = np.array(['Bob', 'Joe', 'Will', 'Bob', 'Will', 'Joe', 'Joe'])\n",
    "data = np.random.randn(7, 4)    # 这里注意：布尔值数组的长度必须和数组轴长度一样，但不一样时也不会报错\n",
    "print(names)\n",
    "print('\\n', data)\n",
    "print(\"\\n{:=^60}\".format('布尔数组索引'))\n",
    "\n",
    "# 假设每个人名都和data数组中的一行相对应，并且我们想要选中所有的'Bob'的对应行\n",
    "print(names=='Bob')\n",
    "print(\"\\n数组元素依次与字符串Bool后结果: \", '\\n', data[names=='Bob'])\n",
    "print(\"\\n除了该字符串以外的其他数组元素: \", '\\n', data[~(names=='Bob')])\n",
    "print(\"\\n布尔数值索引切片: \", '\\n', data[names=='Bob', :2])\n",
    "data[names!='Joe'] = 7\n",
    "print(\"\\n将除了\\'Joe\\'以外的数组元素设置为其他数值: \", '\\n', data)"
   ]
  },
  {
   "attachments": {},
   "cell_type": "markdown",
   "metadata": {},
   "source": [
    "### 2.5.4 神奇索引\n",
    "*神奇索引*是NumPy中的术语，用于描述使用整数数组进行数据索引；它总是将数据复制到一个新的数组中。"
   ]
  },
  {
   "cell_type": "code",
   "execution_count": 25,
   "metadata": {},
   "outputs": [
    {
     "name": "stdout",
     "output_type": "stream",
     "text": [
      "[[0. 0. 0. 0.]\n",
      " [1. 1. 1. 1.]\n",
      " [2. 2. 2. 2.]\n",
      " [3. 3. 3. 3.]\n",
      " [4. 4. 4. 4.]\n",
      " [5. 5. 5. 5.]\n",
      " [6. 6. 6. 6.]\n",
      " [7. 7. 7. 7.]]\n",
      "\n",
      " [[4. 4. 4. 4.]\n",
      " [5. 5. 5. 5.]\n",
      " [6. 6. 6. 6.]\n",
      " [7. 7. 7. 7.]]\n",
      "\n",
      " [4. 5. 6. 7.]\n"
     ]
    }
   ],
   "source": [
    "import numpy as np\n",
    "\n",
    "arr = np.empty((8, 4))\n",
    "for i in range(8):\n",
    "    arr[i] = i\n",
    "print(arr)\n",
    "\n",
    "# 为选取一个特定序列的子集，可以通过传递一个包含指明所需顺序的列表或数组完成\n",
    "print('\\n', arr[[4, 5, 6, 7]])\n",
    "print('\\n', arr[[4, 5, 6, 7], [-1, -2, -3, -4]])"
   ]
  },
  {
   "cell_type": "code",
   "execution_count": 29,
   "metadata": {},
   "outputs": [
    {
     "name": "stdout",
     "output_type": "stream",
     "text": [
      "原数组: \n",
      " [[ 0  1  2  3]\n",
      " [ 4  5  6  7]\n",
      " [ 8  9 10 11]\n",
      " [12 13 14 15]\n",
      " [16 17 18 19]\n",
      " [20 21 22 23]\n",
      " [24 25 26 27]\n",
      " [28 29 30 31]]\n",
      "\n",
      " 根据传入的列表或数组选择特定序列: \n",
      " [ 4 23 29 10]\n",
      "\n",
      " 选择矩阵中行列的子集所形成的矩形区域: \n",
      " [[ 4  7  5  6]\n",
      " [20 23 21 22]\n",
      " [28 31 29 30]\n",
      " [ 8 11  9 10]]\n"
     ]
    }
   ],
   "source": [
    "import numpy as np\n",
    "\n",
    "arr = np.arange(32).reshape((8, 4))\n",
    "print(\"原数组: \\n\", arr)\n",
    "print('\\n', \"根据传入的列表或数组选择特定序列: \\n\", arr[[1, 5, 7, 2], [0, 3, 1, 2]])\n",
    "print('\\n', \"选择矩阵中行列的子集所形成的矩形区域: \\n\", arr[[1, 5, 7, 2]][:, [0,  3, 1, 2]])"
   ]
  },
  {
   "attachments": {},
   "cell_type": "markdown",
   "metadata": {},
   "source": [
    "## 2.6 NumPy 数组操作\n",
    "- `np.nditer()` 迭代数组\n",
    "\n",
    "- Numpy 的广播机制\n",
    "\n",
    "- 数组的基本操作"
   ]
  },
  {
   "attachments": {},
   "cell_type": "markdown",
   "metadata": {},
   "source": [
    "### 2.6.1 风格排序、迭代数组"
   ]
  },
  {
   "cell_type": "code",
   "execution_count": 18,
   "metadata": {},
   "outputs": [
    {
     "name": "stdout",
     "output_type": "stream",
     "text": [
      "原始数组是：\n",
      "[[ 0  5 10 15]\n",
      " [20 25 30 35]\n",
      " [40 45 50 55]]\n",
      "\n",
      "\n",
      "以 C 风格顺序排序：\n",
      "0, 5, 10, 15, 20, 25, 30, 35, 40, 45, 50, 55, \n",
      "\n",
      "以 F 风格顺序排序：\n",
      "0, 20, 40, 5, 25, 45, 10, 30, 50, 15, 35, 55, "
     ]
    }
   ],
   "source": [
    "import numpy as np \n",
    " \n",
    "a = np.arange(0,60,5) \n",
    "a = a.reshape(3,4)  \n",
    "\n",
    "print ('原始数组是：')\n",
    "print (a)\n",
    "print ('\\n')\n",
    "\n",
    "print ('以 C 风格顺序排序：')       # 以行优先、依次展开\n",
    "for x in np.nditer(a, order =  'C'):  \n",
    "    print (x, end=\", \" )\n",
    "print ('\\n')\n",
    "\n",
    "print ('以 F 风格顺序排序：')       # 以列优先、依次展开\n",
    "for x in np.nditer(a, order =  'F'):  \n",
    "    print (x, end=\", \" )\n"
   ]
  },
  {
   "attachments": {},
   "cell_type": "markdown",
   "metadata": {},
   "source": [
    "### 2.6.2 广播机制\n",
    "- 若在每个维度上两数组都有同样形状，即 ***a.shape == b.shape***，则a*b的结果就是a与b数组对应位相乘\n",
    "- 若否，则触发下列过程(广播机制)：\n",
    "    - 对两个数组，分别比较他们的每一个维度：\n",
    "        - 数组拥有相同形状\n",
    "        - 当前维度的值相等\n",
    "        - 当前维度的值有一个是 1\n",
    "    - 若任一条件不满足，则抛出 “ValueError: frames are not aligned” 异常\n",
    "\n"
   ]
  },
  {
   "cell_type": "code",
   "execution_count": null,
   "metadata": {},
   "outputs": [],
   "source": [
    "import numpy as np \n",
    " \n",
    "a = np.array([[ 0, 0, 0],\n",
    "           [10,10,10],\n",
    "           [20,20,20],\n",
    "           [30,30,30]])\n",
    "b = np.array([0,1,2])\n",
    "print(a + b)\n",
    "\n",
    "\"\"\" 输出为：\n",
    "[[ 0  1  2]\n",
    " [10 11 12]\n",
    " [20 21 22]\n",
    " [30 31 32]] \"\"\""
   ]
  },
  {
   "attachments": {},
   "cell_type": "markdown",
   "metadata": {},
   "source": [
    "### 2.6.3 数组的基本操作\n",
    "\n",
    "- 修改数组形状：    \n",
    "    - 不改变数据：`numpy.reshape(arr, newshape, order='C')`\n",
    "    - 展平的数组拷贝：`ndarray.flatten(order='C')`\n",
    "    - 拆解：`numpy.ravel()`\n",
    "    - 元组指定：`numpy.shape = (val1, val2, ...)`\n",
    "    - 调整大小：`numpy.resize()`\n",
    "\n",
    "- 翻转数组\n",
    "    - 对换数组的维度：`numpy.transpose(arr, axes)`\n",
    "    - 交换数组的两个轴：`numpy.swapaxes(arr, axis1, axis2)`\n",
    "\n",
    "- 修改数组维度\n",
    "    - 在指定位置插入新轴：` numpy.expand_dims(arr, axis) `\n",
    "    - 删除一维条目：`numpy.squeeze(arr, axis)`\n",
    "\n",
    "- 连接数组\n",
    "    - 连接形状相同的多个数组：`numpy.concatenate((a1, a2, ...), axis)`\n",
    "    - 沿新轴连接数组序列：`numpy.stack(arrays, axis)`\n",
    "    - 水平堆叠：`np.hstack(a1, a2)`\n",
    "    - 列式叠加：`np.column_stack()`\n",
    "    - 垂直堆叠：`numpy.vstack(a1, a2)`\n",
    "    - 行式叠加：`np.row_stack()`\n",
    "    - 深度叠加：`np.dstack()` 和 一个元组 `()`\n",
    "\n",
    "- 分割数组\n",
    "    - 沿特定轴分割：`numpy.split(ary, indices_or_sections, axis)`\n",
    "\n",
    "- 数组元素的添加与删除\n",
    "    - 在形状相同的数组末尾追加值：`numpy.append(arr, values, axis=None)`\n",
    "    - 沿给定轴、给定索引位置前插入值：`numpy.insert(arr, obj, values, axis)`\n",
    "    - 沿给定轴删除子数组：`numpy.delete(arr, obj, axis)`\n",
    "    "
   ]
  },
  {
   "attachments": {},
   "cell_type": "markdown",
   "metadata": {},
   "source": [
    "#### (1) 修改数组形状\n",
    "\n",
    "- `numpy.reshape(arr, newshape, order='C')`\n",
    "    - 在不改变数据的条件下修改形状，参数如下：\n",
    "    - arr：要修改形状的数组\n",
    "    - newshape：整数或者整数数组，新的形状应当兼容原有形状\n",
    "    - order：‘C’ – 按行，‘F’ – 按列，‘A’ – 原顺序，‘k’ – 元素在内存中的出现顺序"
   ]
  },
  {
   "attachments": {},
   "cell_type": "markdown",
   "metadata": {},
   "source": [
    "- `ndarray.flatten(order='C')`\n",
    "    - 返回一份展平的数组深拷贝，需要重新分配内存空间，对拷贝所做的修改不会影响原始数组"
   ]
  },
  {
   "cell_type": "code",
   "execution_count": null,
   "metadata": {},
   "outputs": [],
   "source": [
    "import numpy as np\n",
    " \n",
    "a = np.arange(8).reshape(2,4)\n",
    " \n",
    "print ('原数组：')\n",
    "print (a)\n",
    "print ('\\n')\n",
    "# 默认按行\n",
    " \n",
    "print ('展开的数组：')\n",
    "print (a.flatten())\n",
    "print ('\\n')\n",
    " \n",
    "print ('以 F 风格顺序展开的数组：')\n",
    "print (a.flatten(order = 'F'))\n"
   ]
  },
  {
   "attachments": {},
   "cell_type": "markdown",
   "metadata": {},
   "source": [
    "- `ravel()`\n",
    "    - 拆解：将多维数组变成一维数组，返回的是数组的视图"
   ]
  },
  {
   "cell_type": "code",
   "execution_count": 49,
   "metadata": {},
   "outputs": [
    {
     "name": "stdout",
     "output_type": "stream",
     "text": [
      "[ 0  1  2  3  4  5  6  7  8  9 10 11 12 13 14 15 16 17 18 19 20 21 22 23]\n"
     ]
    }
   ],
   "source": [
    "import numpy as np\n",
    " \n",
    "b = np.arange(24).reshape(2, 3, 4)\n",
    "print(b.ravel())"
   ]
  },
  {
   "attachments": {},
   "cell_type": "markdown",
   "metadata": {},
   "source": [
    "- `numpy.shape = (val1, val2, ...)`\n",
    "    - 元组指定形状\n",
    "\n",
    "\n",
    "- `numpy.resize()`\n",
    "    - 类似于 `reshape()`，但会改变所作用的数组"
   ]
  },
  {
   "cell_type": "code",
   "execution_count": 55,
   "metadata": {},
   "outputs": [
    {
     "name": "stdout",
     "output_type": "stream",
     "text": [
      "[[ 0  1  2  3]\n",
      " [ 4  5  6  7]\n",
      " [ 8  9 10 11]\n",
      " [12 13 14 15]\n",
      " [16 17 18 19]\n",
      " [20 21 22 23]]\n",
      "\n",
      "\n",
      "[[[ 0  1  2  3]\n",
      "  [ 4  5  6  7]\n",
      "  [ 8  9 10 11]]\n",
      "\n",
      " [[12 13 14 15]\n",
      "  [16 17 18 19]\n",
      "  [20 21 22 23]]]\n"
     ]
    }
   ],
   "source": [
    "import numpy as np\n",
    " \n",
    "a = np.arange(24).reshape(2, 3, 4)\n",
    "b = np.arange(24).reshape(2, 3, 4)\n",
    "b.shape = (6, 4)\n",
    "print(b)\n",
    "print('\\n')\n"
   ]
  },
  {
   "attachments": {},
   "cell_type": "markdown",
   "metadata": {},
   "source": [
    "#### (2) 翻转数组\n",
    "- `numpy.transpose(arr, axes)`\n",
    "    - 对换数组的维度\n",
    "    - axes：整数列表，对应维度，通常所有维度都会对换"
   ]
  },
  {
   "cell_type": "code",
   "execution_count": 1,
   "metadata": {},
   "outputs": [
    {
     "name": "stdout",
     "output_type": "stream",
     "text": [
      "原数组：\n",
      "[[ 0  1  2  3]\n",
      " [ 4  5  6  7]\n",
      " [ 8  9 10 11]]\n",
      "\n",
      "\n",
      "对换数组：\n",
      "[[ 0  4  8]\n",
      " [ 1  5  9]\n",
      " [ 2  6 10]\n",
      " [ 3  7 11]]\n"
     ]
    }
   ],
   "source": [
    "import numpy as np\n",
    " \n",
    "a = np.arange(12).reshape(3,4)\n",
    " \n",
    "print ('原数组：')\n",
    "print (a )\n",
    "print ('\\n')\n",
    " \n",
    "print ('对换数组：')\n",
    "print (np.transpose(a))\n"
   ]
  },
  {
   "attachments": {},
   "cell_type": "markdown",
   "metadata": {},
   "source": [
    "- `numpy.swapaxes(arr, axis1, axis2)`\n",
    "    - 交换数组的两个轴\n",
    "    - arr：输入的数组\n",
    "    - axis1：对应第一个轴的整数\n",
    "    - axis2：对应第二个轴的整数"
   ]
  },
  {
   "cell_type": "code",
   "execution_count": 2,
   "metadata": {},
   "outputs": [
    {
     "name": "stdout",
     "output_type": "stream",
     "text": [
      "原数组：\n",
      "[[[0 1]\n",
      "  [2 3]]\n",
      "\n",
      " [[4 5]\n",
      "  [6 7]]]\n",
      "\n",
      "\n",
      "调用 swapaxes 函数后的数组：\n",
      "[[[0 4]\n",
      "  [2 6]]\n",
      "\n",
      " [[1 5]\n",
      "  [3 7]]]\n"
     ]
    }
   ],
   "source": [
    "import numpy as np\n",
    " \n",
    "# 创建了三维的 ndarray\n",
    "a = np.arange(8).reshape(2,2,2)\n",
    " \n",
    "print ('原数组：')\n",
    "print (a)\n",
    "print ('\\n')\n",
    "# 现在交换轴 0（深度方向）到轴 2（宽度方向）\n",
    " \n",
    "print ('调用 swapaxes 函数后的数组：')\n",
    "print (np.swapaxes(a, 2, 0))\n"
   ]
  },
  {
   "attachments": {},
   "cell_type": "markdown",
   "metadata": {},
   "source": [
    "#### (3) 修改数组的维度\n",
    "- `numpy.expand_dims(arr, axis)`\n",
    "    - 过在指定位置插入新的轴来扩展数组形状\n",
    "    - axis：新轴插入的位置\n"
   ]
  },
  {
   "cell_type": "code",
   "execution_count": 3,
   "metadata": {},
   "outputs": [
    {
     "name": "stdout",
     "output_type": "stream",
     "text": [
      "数组 x：\n",
      "[[1 2]\n",
      " [3 4]]\n",
      "\n",
      "\n",
      "数组 y：\n",
      "[[[1 2]\n",
      "  [3 4]]]\n",
      "\n",
      "\n",
      "数组 x 和 y 的形状：\n",
      "(2, 2) (1, 2, 2)\n",
      "\n",
      "\n"
     ]
    }
   ],
   "source": [
    "import numpy as np\n",
    " \n",
    "x = np.array(([1,2],[3,4]))\n",
    " \n",
    "print ('数组 x：')\n",
    "print (x)\n",
    "print ('\\n')\n",
    "y = np.expand_dims(x, axis = 0)\n",
    " \n",
    "print ('数组 y：')\n",
    "print (y)\n",
    "print ('\\n')\n",
    " \n",
    "print ('数组 x 和 y 的形状：')\n",
    "print (x.shape, y.shape)\n",
    "print ('\\n')\n"
   ]
  },
  {
   "attachments": {},
   "cell_type": "markdown",
   "metadata": {},
   "source": [
    "- `numpy.squeeze(arr, axis)`\n",
    "    - 从给定数组的形状中删除一维的条目"
   ]
  },
  {
   "cell_type": "code",
   "execution_count": 4,
   "metadata": {},
   "outputs": [
    {
     "name": "stdout",
     "output_type": "stream",
     "text": [
      "数组 x：\n",
      "[[[0 1 2]\n",
      "  [3 4 5]\n",
      "  [6 7 8]]]\n",
      "\n",
      "\n",
      "数组 y：\n",
      "[[0 1 2]\n",
      " [3 4 5]\n",
      " [6 7 8]]\n",
      "\n",
      "\n",
      "数组 x 和 y 的形状：\n",
      "(1, 3, 3) (3, 3)\n"
     ]
    }
   ],
   "source": [
    "import numpy as np\n",
    " \n",
    "x = np.arange(9).reshape(1,3,3)\n",
    " \n",
    "print ('数组 x：')\n",
    "print (x)\n",
    "print ('\\n')\n",
    "y = np.squeeze(x)\n",
    " \n",
    "print ('数组 y：')\n",
    "print (y)\n",
    "print ('\\n')\n",
    " \n",
    "print ('数组 x 和 y 的形状：')\n",
    "print (x.shape, y.shape)\n"
   ]
  },
  {
   "attachments": {},
   "cell_type": "markdown",
   "metadata": {},
   "source": [
    "#### (4) 连接数组"
   ]
  },
  {
   "attachments": {},
   "cell_type": "markdown",
   "metadata": {},
   "source": [
    "- `numpy.concatenate((a1, a2, ...), axis)`\n",
    "    - 连接形状相同的两个或多个数组\n",
    "    - a1, a2, ...：相同类型的数组\n",
    "    - axis：沿着它连接数组的轴，默认为 0"
   ]
  },
  {
   "cell_type": "code",
   "execution_count": 5,
   "metadata": {},
   "outputs": [
    {
     "name": "stdout",
     "output_type": "stream",
     "text": [
      "第一个数组：\n",
      "[[1 2]\n",
      " [3 4]]\n",
      "\n",
      "\n",
      "第二个数组：\n",
      "[[5 6]\n",
      " [7 8]]\n",
      "\n",
      "\n",
      "沿轴 0 连接两个数组：\n",
      "[[1 2]\n",
      " [3 4]\n",
      " [5 6]\n",
      " [7 8]]\n",
      "\n",
      "\n",
      "沿轴 1 连接两个数组：\n",
      "[[1 2 5 6]\n",
      " [3 4 7 8]]\n"
     ]
    }
   ],
   "source": [
    "import numpy as np\n",
    " \n",
    "a = np.array([[1,2],[3,4]])\n",
    " \n",
    "print ('第一个数组：')\n",
    "print (a)\n",
    "print ('\\n')\n",
    "b = np.array([[5,6],[7,8]])\n",
    " \n",
    "print ('第二个数组：')\n",
    "print (b)\n",
    "print ('\\n')\n",
    "# 两个数组的维度相同\n",
    " \n",
    "print ('沿轴 0 连接两个数组：')\n",
    "print (np.concatenate((a,b)))\n",
    "print ('\\n')\n",
    " \n",
    "print ('沿轴 1 连接两个数组：')\n",
    "print (np.concatenate((a,b),axis = 1))\n"
   ]
  },
  {
   "attachments": {},
   "cell_type": "markdown",
   "metadata": {},
   "source": [
    "- `numpy.stack(arrays, axis)`\n",
    "    - arrays相同形状的数组序列\n",
    "    - axis：返回数组中的轴，输入数组沿着它来堆叠"
   ]
  },
  {
   "cell_type": "code",
   "execution_count": 6,
   "metadata": {},
   "outputs": [
    {
     "name": "stdout",
     "output_type": "stream",
     "text": [
      "第一个数组：\n",
      "[[1 2]\n",
      " [3 4]]\n",
      "\n",
      "\n",
      "第二个数组：\n",
      "[[5 6]\n",
      " [7 8]]\n",
      "\n",
      "\n",
      "沿轴 0 堆叠两个数组：\n",
      "[[[1 2]\n",
      "  [3 4]]\n",
      "\n",
      " [[5 6]\n",
      "  [7 8]]]\n",
      "\n",
      "\n",
      "沿轴 1 堆叠两个数组：\n",
      "[[[1 2]\n",
      "  [5 6]]\n",
      "\n",
      " [[3 4]\n",
      "  [7 8]]]\n"
     ]
    }
   ],
   "source": [
    "import numpy as np\n",
    " \n",
    "a = np.array([[1,2],[3,4]])\n",
    " \n",
    "print ('第一个数组：')\n",
    "print (a)\n",
    "print ('\\n')\n",
    "b = np.array([[5,6],[7,8]])\n",
    " \n",
    "print ('第二个数组：')\n",
    "print (b)\n",
    "print ('\\n')\n",
    " \n",
    "print ('沿轴 0 堆叠两个数组：')\n",
    "print (np.stack((a,b),0))\n",
    "print ('\\n')\n",
    " \n",
    "print ('沿轴 1 堆叠两个数组：')\n",
    "print (np.stack((a,b),1))\n"
   ]
  },
  {
   "attachments": {},
   "cell_type": "markdown",
   "metadata": {},
   "source": [
    "- `numpy.hstack(a1, a2, ...)`\n",
    "    - 是 numpy.stack 函数的变体，它通过水平堆叠来生成数组。"
   ]
  },
  {
   "cell_type": "code",
   "execution_count": 7,
   "metadata": {},
   "outputs": [
    {
     "name": "stdout",
     "output_type": "stream",
     "text": [
      "第一个数组：\n",
      "[[1 2]\n",
      " [3 4]]\n",
      "\n",
      "\n",
      "第二个数组：\n",
      "[[5 6]\n",
      " [7 8]]\n",
      "\n",
      "\n",
      "水平堆叠：\n",
      "[[1 2 5 6]\n",
      " [3 4 7 8]]\n",
      "\n",
      "\n"
     ]
    }
   ],
   "source": [
    "import numpy as np\n",
    " \n",
    "a = np.array([[1,2],[3,4]])\n",
    " \n",
    "print ('第一个数组：')\n",
    "print (a)\n",
    "print ('\\n')\n",
    "b = np.array([[5,6],[7,8]])\n",
    " \n",
    "print ('第二个数组：')\n",
    "print (b)\n",
    "print ('\\n')\n",
    " \n",
    "print ('水平堆叠：')\n",
    "c = np.hstack((a,b))\n",
    "print (c)\n",
    "print ('\\n')\n"
   ]
  },
  {
   "attachments": {},
   "cell_type": "markdown",
   "metadata": {},
   "source": [
    "- `np.column_stack()`\n",
    "    - 列式堆叠，类似 hstack() 函数"
   ]
  },
  {
   "cell_type": "code",
   "execution_count": null,
   "metadata": {},
   "outputs": [],
   "source": [
    "import numpy as np\n",
    "\n",
    "oned = np.arange(2)\n",
    "twice_oned = 2 * oned\n",
    "print(np.column_stack((oned, twice_oned)))          # 列式堆叠\n",
    "print('\\n')\n"
   ]
  },
  {
   "attachments": {},
   "cell_type": "markdown",
   "metadata": {},
   "source": [
    "- `numpy.vstack(a1, a2, ...)`\n",
    "    - 是 numpy.stack 函数的变体，它通过垂直堆叠来生成数组"
   ]
  },
  {
   "cell_type": "code",
   "execution_count": 9,
   "metadata": {},
   "outputs": [
    {
     "name": "stdout",
     "output_type": "stream",
     "text": [
      "第一个数组：\n",
      "[[1 2]\n",
      " [3 4]]\n",
      "\n",
      "\n",
      "第二个数组：\n",
      "[[5 6]\n",
      " [7 8]]\n",
      "\n",
      "\n",
      "竖直堆叠：\n",
      "[[1 2]\n",
      " [3 4]\n",
      " [5 6]\n",
      " [7 8]]\n"
     ]
    }
   ],
   "source": [
    "import numpy as np\n",
    " \n",
    "a = np.array([[1,2],[3,4]])\n",
    " \n",
    "print ('第一个数组：')\n",
    "print (a)\n",
    "print ('\\n')\n",
    "b = np.array([[5,6],[7,8]])\n",
    " \n",
    "print ('第二个数组：')\n",
    "print (b)\n",
    "print ('\\n')\n",
    " \n",
    "print ('竖直堆叠：')\n",
    "c = np.vstack((a,b))\n",
    "print (c)\n"
   ]
  },
  {
   "attachments": {},
   "cell_type": "markdown",
   "metadata": {},
   "source": [
    "- `np.row_stack()`\n",
    "    - 行式叠加，类似 vstack() 函数"
   ]
  },
  {
   "cell_type": "code",
   "execution_count": 61,
   "metadata": {},
   "outputs": [
    {
     "name": "stdout",
     "output_type": "stream",
     "text": [
      "[[0 1]\n",
      " [0 2]]\n"
     ]
    }
   ],
   "source": [
    "import numpy as np\n",
    "\n",
    "oned = np.arange(2)\n",
    "twice_oned = 2 * oned\n",
    "print(np.row_stack((oned, twice_oned)))          # 行式堆叠"
   ]
  },
  {
   "attachments": {},
   "cell_type": "markdown",
   "metadata": {},
   "source": [
    "- `dstack()` 和 一个元组 `()`\n",
    "    - 深度叠加，沿第三个轴(纵向)的方向来叠加一摞数组\n",
    "    - 举例来说，我们可以在一个图像数据的二维数组上叠加另一幅图像的数据"
   ]
  },
  {
   "cell_type": "code",
   "execution_count": null,
   "metadata": {},
   "outputs": [],
   "source": [
    "import numpy as np\n",
    "\n",
    "a = np.arange(9).reshape(3, 3)\n",
    "b = a * 2\n",
    "\n",
    "print(np.dstack((a, b)))"
   ]
  },
  {
   "attachments": {},
   "cell_type": "markdown",
   "metadata": {},
   "source": [
    "#### (5) 分割数组\n"
   ]
  },
  {
   "attachments": {},
   "cell_type": "markdown",
   "metadata": {},
   "source": [
    "- `numpy.split(ary, indices_or_sections, axis)`\n",
    "\n",
    "    - 沿特定的轴将数组分割为子数组\n",
    "    \n",
    "    - ary: 被分割的数组\n",
    "\n",
    "    - indices_or_sections：如果是一个整数，就用该数平均切分，如果是一个数组，为沿轴切分的位置（左开右闭）\n",
    "    \n",
    "    - axis：设置沿着哪个方向进行切分，默认为 0，横向切分，即水平方向。为 1 时，纵向切分，即竖直方向"
   ]
  },
  {
   "cell_type": "code",
   "execution_count": null,
   "metadata": {},
   "outputs": [],
   "source": [
    "import numpy as np\n",
    " \n",
    "a = np.arange(9)\n",
    " \n",
    "print ('第一个数组：')\n",
    "print (a)\n",
    "print ('\\n')\n",
    " \n",
    "print ('将数组分为三个大小相等的子数组：')\n",
    "b = np.split(a,3)\n",
    "print (b)\n",
    "print ('\\n')\n",
    " \n",
    "print ('将数组在一维数组中表明的位置分割：')\n",
    "b = np.split(a,[4,7])\n",
    "print (b)\n"
   ]
  },
  {
   "attachments": {},
   "cell_type": "markdown",
   "metadata": {},
   "source": [
    "- `hsplit()`\n",
    "    - 横向切分，相当于调用了参数 `axis=1` 的 `split()` 函数\n",
    "- `vsplit()`\n",
    "    - 纵向切分，相当于调用了参数 `axis=0` 的 `split()` 函数\n",
    "- `dsplit`\n",
    "    - 深度拆分\n",
    "    - 📢注意：dsplit only works on arrays of 3 or more dimensions"
   ]
  },
  {
   "cell_type": "code",
   "execution_count": null,
   "metadata": {},
   "outputs": [],
   "source": [
    "import numpy as np\n",
    "\n",
    "a = np.arange(9).reshape(3, 3)\n",
    "c = np.arange(27).reshape(3, 3, 3)\n",
    "\n",
    "print(np.hsplit(a, 3))                  # 横向拆分\n",
    "print('\\n')\n",
    "\n",
    "print(np.vsplit(a, 3))                  # 纵向拆分\n",
    "print('\\n')\n",
    "\n",
    "print(np.dsplit(c, 3))                  # 深度拆分\n"
   ]
  },
  {
   "attachments": {},
   "cell_type": "markdown",
   "metadata": {},
   "source": [
    "#### (6) 数组元素的添加与删除\n",
    "- `numpy.append(arr, values, axis=None)`\n",
    "\n",
    "    - 在数组的末尾添加值。 追加操作会分配整个数组，并把原来的数组复制到新数组中。 此外，输入数组的维度必须匹配否则将生成ValueError\n",
    "    \n",
    "    - arr：输入数组\n",
    "\n",
    "    - values：要向arr添加的值，需要和arr形状相同（除了要添加的轴）\n",
    "    \n",
    "    - axis：默认为 None。当axis无定义时，是横向加成，返回总是为一维数组！当axis有定义的时候，分别为0和1的时候。当axis有定义的时候，分别为0和1的时候（列数要相同）。当axis为1时，数组是加在右边（行数要相同）"
   ]
  },
  {
   "cell_type": "code",
   "execution_count": null,
   "metadata": {},
   "outputs": [],
   "source": [
    "import numpy as np\n",
    " \n",
    "a = np.array([[1,2,3],[4,5,6]])\n",
    " \n",
    "print ('第一个数组：')\n",
    "print (a)\n",
    "print ('\\n')\n",
    " \n",
    "print ('向数组添加元素：')\n",
    "print (np.append(a, [7,8,9]))\n",
    "print ('\\n')\n",
    " \n",
    "print ('沿轴 0 添加元素：')\n",
    "print (np.append(a, [[7,8,9]],axis = 0))\n",
    "print ('\\n')\n",
    " \n",
    "print ('沿轴 1 添加元素：')\n",
    "print (np.append(a, [[5,5,5],[7,8,9]],axis = 1))\n"
   ]
  },
  {
   "attachments": {},
   "cell_type": "markdown",
   "metadata": {},
   "source": [
    "- `numpy.insert(arr, obj, values, axis)`\n",
    "\n",
    "    - 在给定索引之前，沿给定轴在输入数组中插入值。插入没有原地的，函数会返回一个新数组。此外，如果未提供轴，则输入数组会被展开\n",
    "\n",
    "    - arr：输入数组\n",
    "\n",
    "    - obj：在其之前插入值的索引\n",
    "\n",
    "    - values：要插入的值\n",
    "\n",
    "    - axis：沿着它插入的轴，如果未提供，则输入数组会被展开"
   ]
  },
  {
   "cell_type": "code",
   "execution_count": null,
   "metadata": {},
   "outputs": [],
   "source": [
    "import numpy as np\n",
    " \n",
    "a = np.array([[1,2],[3,4],[5,6]])\n",
    " \n",
    "print ('第一个数组：')\n",
    "print (a)\n",
    "print ('\\n')\n",
    " \n",
    "print ('未传递 Axis 参数。 在删除之前输入数组会被展开。')\n",
    "print (np.insert(a,3,[11,12]))\n",
    "print ('\\n')\n",
    "print ('传递了 Axis 参数。 会广播值数组来配输入数组。')\n",
    " \n",
    "print ('沿轴 0 广播：')\n",
    "print (np.insert(a,1,[11],axis = 0))\n",
    "print ('\\n')\n",
    " \n",
    "print ('沿轴 1 广播：')\n",
    "print (np.insert(a,1,11,axis = 1))\n"
   ]
  },
  {
   "attachments": {},
   "cell_type": "markdown",
   "metadata": {},
   "source": [
    "- `numpy.delete(arr, obj, axis)`\n",
    "\n",
    "    - 返回从输入数组中删除指定子数组的新数组，如果未提供轴参数，则输入数组将展开\n",
    "\n",
    "    - arr：输入数组\n",
    "\n",
    "    - obj：可以被切片，整数或者整数数组，表明要从输入数组删除的子数组\n",
    "\n",
    "    - axis：沿着它删除给定子数组的轴，如果未提供，则输入数组会被展开\n",
    "    "
   ]
  },
  {
   "cell_type": "code",
   "execution_count": null,
   "metadata": {},
   "outputs": [],
   "source": [
    "import numpy as np\n",
    " \n",
    "a = np.arange(12).reshape(3,4)\n",
    " \n",
    "print ('第一个数组：')\n",
    "print (a)\n",
    "print ('\\n')\n",
    " \n",
    "print ('未传递 Axis 参数。 在插入之前输入数组会被展开。')\n",
    "print (np.delete(a,5))\n",
    "print ('\\n')\n",
    " \n",
    "print ('删除第二列：')\n",
    "print (np.delete(a,1,axis = 1))\n",
    "print ('\\n')\n",
    " \n",
    "print ('包含从数组中删除的替代值的切片：')\n",
    "a = np.array([1,2,3,4,5,6,7,8,9,10])\n",
    "print (np.delete(a, np.s_[::2]))\n"
   ]
  },
  {
   "attachments": {},
   "cell_type": "markdown",
   "metadata": {},
   "source": [
    "# 3.NumPy 常用函数"
   ]
  },
  {
   "cell_type": "markdown",
   "metadata": {},
   "source": [
    "## 3.1数组的集合操作\n",
    "\n",
    "|方法|描述|\n",
    "|:---:|:---:|\n",
    "|unique(x)|计算x的唯一值，并排序|\n",
    "|intersect1d(x, y)|计算x和y的交集，并排序|\n",
    "|union1d(x, y)|计算x和y的并集，并排序|\n",
    "|in1d(x, y)|计算x中的元素是否包含在y中，返回一个布尔值数组|\n",
    "|setdiff1d(x, y)|差集，在x中但不在y中的x元素|\n",
    "|setxor1d(x, y)|异或集，在x或y中，但不属于x、y交集的元素|"
   ]
  },
  {
   "cell_type": "code",
   "execution_count": 16,
   "metadata": {},
   "outputs": [
    {
     "name": "stdout",
     "output_type": "stream",
     "text": [
      "['Bob' 'Joe' 'Will']\n",
      "[1, 2, 3, 4]\n",
      "[ True False False  True  True False False  True]\n"
     ]
    }
   ],
   "source": [
    "import numpy as np\n",
    "\n",
    "# 取唯一值 -> np.unique()\n",
    "names = np.array(['Bob', 'Joe', 'Will', 'Bob', 'Will', 'Joe', 'Joe'])\n",
    "onlyOneStr =  np.unique(names)\n",
    "print(onlyOneStr)\n",
    "\n",
    "ints = np.array([3, 3, 3, 2, 2, 1, 1, 4, 4])\n",
    "onlyOneInt = sorted(set(ints))\n",
    "print(onlyOneInt)\n",
    "\n",
    "# 检查一个数组中的值是否包含在另外一个数组中，并返回一个布尔值数组 -> np.in1d\n",
    "values = np.array([6, 0, 0, 3, 2, 4, 5, 6])\n",
    "print(np.in1d(values, [2, 3, 6]))"
   ]
  },
  {
   "attachments": {},
   "cell_type": "markdown",
   "metadata": {},
   "source": [
    "## 3.2 数学函数"
   ]
  },
  {
   "cell_type": "code",
   "execution_count": null,
   "metadata": {},
   "outputs": [],
   "source": [
    "import numpy as np\n",
    " \n",
    "a = np.array([0,30,45,60,90])\n",
    "print ('不同角度的正弦值：')\n",
    "# 通过乘 pi/180 转化为弧度  \n",
    "print (np.sin(a*np.pi/180))\n",
    "print ('\\n')\n",
    "\n",
    "print ('数组中角度的余弦值：')\n",
    "print (np.cos(a*np.pi/180))\n",
    "print ('\\n')\n",
    "\n",
    "print ('数组中角度的正切值：')\n",
    "print (np.tan(a*np.pi/180))\n"
   ]
  },
  {
   "attachments": {},
   "cell_type": "markdown",
   "metadata": {},
   "source": [
    " - 舍入函数"
   ]
  },
  {
   "cell_type": "code",
   "execution_count": null,
   "metadata": {},
   "outputs": [],
   "source": [
    "import numpy as np\n",
    " \n",
    "a = np.array([1.0,5.55,  123,  0.567,  25.532])  \n",
    "print  ('原数组：')\n",
    "print (a)\n",
    "print ('\\n')\n",
    "print ('舍入后：')\n",
    "print (np.around(a))\n",
    "print (np.around(a, decimals =  1))\n",
    "print (np.around(a, decimals =  -1))\n",
    "#a: 数组\n",
    "#decimals: 舍入的小数位数。 默认值为0。 如果为负，整数将四舍五入到小数点左侧的位置\n",
    "\n",
    "#向下取整。\n",
    "print (np.floor(a))\n",
    "#向上取整。\n",
    "print (np.ceil(a)) \n"
   ]
  },
  {
   "attachments": {},
   "cell_type": "markdown",
   "metadata": {},
   "source": [
    "## 3.3 统计函数\n",
    "\n",
    "|方法|描述|\n",
    "|:---:|:---:|\n",
    "|sum|沿着轴向计算所有元素的累和，0长度的数组，累积和为0|\n",
    "|mean|数学平均，0长度的数组平均值为NaN|\n",
    "|std, var|标准差和方差，可以选择自由度调整（默认分母是n）|\n",
    "|min, max|最大值和最小值|\n",
    "|argmin, argmax|最小值和最大值的位置|\n",
    "|cumsum|从0开始元素累和|\n",
    "|cumprod|从1开始元素累积积|"
   ]
  },
  {
   "cell_type": "code",
   "execution_count": 36,
   "metadata": {},
   "outputs": [
    {
     "name": "stdout",
     "output_type": "stream",
     "text": [
      "我们的数组是：\n",
      "[[3 7 5]\n",
      " [8 4 3]\n",
      " [2 4 9]]\n",
      "[[0 2 1]\n",
      " [2 1 0]\n",
      " [0 1 2]]\n"
     ]
    }
   ],
   "source": [
    "import numpy as np \n",
    " \n",
    "a = np.array([[3,7,5],[8,4,3],[2,4,9]])  \n",
    "print ('我们的数组是：')\n",
    "print (a)\n",
    "print ('\\n')\n",
    "\n",
    "print ('调用 amin() 函数：')        \n",
    "print (np.amin(a,1))                # 用于计算数组中的元素沿指定轴的最小值\n",
    "print ('\\n')\n",
    "\n",
    "print ('调用 amax() 函数：')\n",
    "print (np.amax(a))                  # 用于计算数组中的元素沿指定轴的最大值\n",
    "print ('\\n')\n",
    "\n",
    "print ('再次调用 amax() 函数：')\n",
    "print (np.amax(a, axis =  0))       # 0 为纵向切分，1 为横向切分(默认)\n"
   ]
  },
  {
   "cell_type": "code",
   "execution_count": null,
   "metadata": {},
   "outputs": [],
   "source": [
    "import numpy as np \n",
    " \n",
    "a = np.array([[10, 7, 4], [3, 2, 1]])\n",
    "print ('我们的数组是：')\n",
    "print (a)\n",
    " \n",
    "print ('调用 percentile() 函数：')\n",
    "# 50% 的分位数，就是 a 里排序之后的中位数\n",
    "print (np.percentile(a, 50)) \n",
    " \n",
    "# axis 为 0，在纵列上求\n",
    "print (np.percentile(a, 50, axis=0)) \n",
    " \n",
    "# axis 为 1，在横行上求\n",
    "print (np.percentile(a, 50, axis=1)) \n",
    " \n",
    "# 保持维度不变\n",
    "print (np.percentile(a, 50, axis=1, keepdims=True))\n"
   ]
  },
  {
   "cell_type": "code",
   "execution_count": null,
   "metadata": {},
   "outputs": [],
   "source": [
    "import numpy as np \n",
    " \n",
    "a = np.array([1,2,3,4])  \n",
    "print ('我们的数组是：')\n",
    "print (a)\n",
    "print ('\\n')\n",
    "\n",
    "print ('调用 average() 函数：')\n",
    "print (np.average(a))\n",
    "print ('\\n')\n",
    "\n",
    "# 不指定权重时相当于 mean 函数\n",
    "wts = np.array([4,3,2,1])  \n",
    "print ('再次调用 average() 函数：')\n",
    "print (np.average(a,weights = wts))\n",
    "print ('\\n')\n",
    "# 加权平均值 = (1*4+2*3+3*2+4*1)/(4+3+2+1)\n"
   ]
  },
  {
   "cell_type": "code",
   "execution_count": 35,
   "metadata": {},
   "outputs": [
    {
     "name": "stdout",
     "output_type": "stream",
     "text": [
      "调用 median() 函数：\n",
      "2.5\n",
      "调用 mean() 函数：\n",
      "[7. 2.]\n"
     ]
    }
   ],
   "source": [
    "import numpy as np \n",
    "\n",
    "a = np.array([1,2,3,4])  \n",
    "print('调用 median() 函数：')           # 计算数组 a 中元素的中位数（中值）\n",
    "print(np.median(a))\n",
    "print('\\n')\n",
    "\n",
    "b = np.array([[10, 7, 4], [3, 2, 1]])\n",
    "print('调用 mean() 函数：')             # 返回数组中元素的算术平均值。如果提供了轴，则沿其计算\n",
    "print(np.median(b, axis = 1))  \n",
    "print('\\n')\n",
    "\n",
    "print('调用 std() 函数：')\n",
    "print(np.std(a))                      # 标准差，即 std = sqrt(mean((x - x.mean())**2))\n",
    "print('\\n')\n",
    "\n",
    "print('调用 var() 函数：')\n",
    "print(np.var([1,2,3,4]))              # 统计中的方差（样本方差），即 mean((x - x.mean())** 2)\n",
    "print('\\n')\n"
   ]
  },
  {
   "cell_type": "markdown",
   "metadata": {},
   "source": [
    "## 3.4线性代数\n",
    "\n",
    "- 和Matlab等其它语言相比，NumPy的线性代数中所不同的是 `*` 是矩阵的逐元素乘积而不是矩阵的点乘积。因此，NumPy的数组方法和numpy命名空间中都有一个函数 `dot`，用于矩阵操作。\n",
    "\n",
    "- `@` 为中缀操作符，用于点乘操作\n",
    "- `numpy.linalg` 拥有一个矩阵分解的标准函数集，这些函数都是通过在MATLAB和R等其它语言使用的相同的行业标准线性代数库来实现的，例如BLAS、LAPACK或英特尔专有的MKL(数学核心库)\n",
    "\n",
    "|函数|描述|\n",
    "|:---:|:---:|\n",
    "|diag|将一个方阵的对角（或非对角）元素作为一位数组返回，或者将一维数组转换成一个方阵，并且在非对角线上有零点\n",
    "|dot|矩阵点乘|\n",
    "|trace|计算矩阵对角元素和|\n",
    "|det|计算矩阵的行列式|\n",
    "|eig|计算矩阵的特征值和方向向量|\n",
    "|inv|计算方阵的逆矩阵|\n",
    "|pinv|计算矩阵的Moore-Penrose伪逆|\n",
    "|qr|计算QR分解|\n",
    "|svd|计算奇异值分解|\n",
    "|solve|求解x的线性系统 Ax = b，其中A是方阵|\n",
    "|lstsq|计算 Ax = b的最小二乘解|"
   ]
  },
  {
   "cell_type": "code",
   "execution_count": 28,
   "metadata": {},
   "outputs": [
    {
     "name": "stdout",
     "output_type": "stream",
     "text": [
      "x.dot(y) equals to np.dot(x, y):\n",
      " [[ True  True]\n",
      " [ True  True]]\n",
      "\n",
      "x.dot(y)为：\n",
      " [[ 28.  64.]\n",
      " [ 67. 181.]]\n",
      "\n",
      "x @ y为：\n",
      " [[ 28.  64.]\n",
      " [ 67. 181.]]\n",
      "\n",
      "mat的逆矩阵为：\n",
      " [[ 0.84851568 -0.32454181 -1.05269321 -0.0795347   0.7456001 ]\n",
      " [-0.32454181  0.85694569  0.12544306  0.5582152  -0.25835292]\n",
      " [-1.05269321  0.12544306  1.99814656 -0.08681374 -1.19400536]\n",
      " [-0.0795347   0.5582152  -0.08681374  1.0617048   0.09932558]\n",
      " [ 0.7456001  -0.25835292 -1.19400536  0.09932558  0.92009588]]\n",
      "\n",
      "mat与其逆矩阵相乘结果为对角矩阵：\n",
      " [[ 1.00000000e+00  5.18888705e-17  6.44729764e-16  4.02024398e-17\n",
      "  -5.77362227e-16]\n",
      " [ 2.82527409e-16  1.00000000e+00 -1.08797655e-15  3.17536846e-16\n",
      "  -4.60748090e-16]\n",
      " [-2.12292343e-17  8.32598948e-17  1.00000000e+00  1.42020892e-16\n",
      "   4.22741731e-16]\n",
      " [-1.77082791e-16 -1.49354208e-16  1.88483647e-16  1.00000000e+00\n",
      "  -1.01806133e-16]\n",
      " [ 2.86901838e-16  2.10591261e-16  7.12631992e-17  1.63783760e-16\n",
      "   1.00000000e+00]]\n"
     ]
    }
   ],
   "source": [
    "import numpy as np  \n",
    "\n",
    "x = np.array([[1., 2., 3.], [4., 5., 6.]])\n",
    "y = np.array([[6., 23.], [-1, 7], [8, 9]])\n",
    "print(\"x.dot(y) equals to np.dot(x, y):\\n\", (x.dot(y) == np.dot(x, y)))\n",
    "print(\"\\nx.dot(y)为：\\n\", x.dot(y))\n",
    "print(\"\\nx @ y为：\\n\", x@y)\n",
    "\n",
    "from numpy.linalg import inv, qr\n",
    "X = np.random.randn(5, 5)\n",
    "mat = X.T.dot(X)\n",
    "print(\"\\nmat的逆矩阵为：\\n\", inv(mat))\n",
    "print(\"\\nmat与其逆矩阵相乘结果为对角矩阵：\\n\", mat.dot(inv(mat)))\n",
    "# 奇异矩阵\n",
    "q, r = qr(mat)\n"
   ]
  },
  {
   "attachments": {},
   "cell_type": "markdown",
   "metadata": {},
   "source": [
    "## 3.5 排序与取索引\n",
    "\n",
    "<font color = \"red\">📢注意：</font> `np.sort` 方法返回的是已经排序好的数组拷贝，而不是对原数组按位置排序"
   ]
  },
  {
   "cell_type": "code",
   "execution_count": null,
   "metadata": {},
   "outputs": [],
   "source": [
    "import numpy as np  \n",
    " \n",
    "a = np.array([[3,7],[9,1]])  \n",
    "print ('我们的数组是：')\n",
    "print (a)\n",
    "print ('\\n') \n",
    "\n",
    "print ('按列排序：')\n",
    "print (np.sort(a, axis =  0))\n",
    "print ('\\n')\n"
   ]
  },
  {
   "cell_type": "code",
   "execution_count": null,
   "metadata": {},
   "outputs": [],
   "source": [
    "import numpy as np \n",
    " \n",
    "a = np.array([[3,7,5],[8,4,3],[2,4,9]])  \n",
    "print('调用函数 argsort(): ')\n",
    "print(a.argsort())                      # 函数返回的是数组值从小到大的索引值\n",
    "print('\\n')\n",
    "\n",
    "print('调用函数 argmin(): ')\n",
    "print(a.argmin())                       # 函数分别沿给定轴返回最小元素的索引\n",
    "print('\\n')    \n",
    "\n",
    "print('调用函数 argmin(): ')\n",
    "print(a.argmax())                       # 函数分别沿给定轴返回最大元素的索引\n"
   ]
  },
  {
   "cell_type": "code",
   "execution_count": null,
   "metadata": {},
   "outputs": [],
   "source": [
    "import numpy as np \n",
    " \n",
    "x = np.arange(9.).reshape(3,  3)  \n",
    "print ('我们的数组是：')\n",
    "print (x)\n",
    "print('\\n')\n",
    "\n",
    "print ( '大于 3 的元素的索引：')\n",
    "y = np.where(x >  3)  \n",
    "print (y)\n",
    "print('\\n')\n",
    "\n",
    "print ('使用这些索引来获取满足条件的元素：')\n",
    "print (x[y])\n"
   ]
  },
  {
   "cell_type": "code",
   "execution_count": 39,
   "metadata": {},
   "outputs": [
    {
     "name": "stdout",
     "output_type": "stream",
     "text": [
      "我们的数组是：\n",
      "[[0. 1. 2.]\n",
      " [3. 4. 5.]\n",
      " [6. 7. 8.]]\n",
      "按元素的条件值：\n",
      "[[ True False  True]\n",
      " [False  True False]\n",
      " [ True False  True]]\n",
      "使用条件提取元素：\n",
      "[0. 2. 4. 6. 8.]\n"
     ]
    }
   ],
   "source": [
    "import numpy as np \n",
    " \n",
    "x = np.arange(9.).reshape(3,  3)  \n",
    "print ('我们的数组是：')\n",
    "print (x)\n",
    "\n",
    "# 定义条件, 选择偶数元素\n",
    "condition = np.mod(x,2)  ==  0  \n",
    "\n",
    "print ('按元素的条件值：')\n",
    "print (condition)\n",
    "\n",
    "print ('使用条件提取元素：')\n",
    "print (np.extract(condition, x))\n",
    "\n"
   ]
  },
  {
   "attachments": {},
   "cell_type": "markdown",
   "metadata": {},
   "source": [
    "## 3.6  NumPy 副本与视图\n",
    "\n",
    "- 副本是一个数据的完整的拷贝，如果我们对副本进行修改，它不会影响到原始数据，物理内存不在同一位置，一般发生在：\n",
    "\n",
    "    - 1. Python 序列的切片操作，调用deepCopy()函数\n",
    "    - 2. 调用 ndarray 的 copy() 函数产生一个副本\n",
    "\n",
    "- 视图是数据的一个别称或引用，通过该别称或引用亦便可访问、操作原有数据，但原有数据不会产生拷贝。如果我们对视图进行修改，它会影响到原始数据，物理内存在同一位置\n",
    "\n",
    "    - 1. numpy 的切片操作返回原数据的视图\n",
    "    - 2. 调用 ndarray 的 view() 函数产生一个视图\n",
    "    \n",
    "\n",
    "- 简单的赋值不会创建数组对象的副本。相反，它使用原始数组的相同id()来访问它。id()返回 Python 对象的通用标识符，类似于 C 中的指针\n",
    "\n",
    "- 此外，一个数组的任何变化都反映在另一个数组上。 例如，一个数组的形状改变也会改变另一个数组的形状"
   ]
  },
  {
   "attachments": {},
   "cell_type": "markdown",
   "metadata": {},
   "source": [
    "- 简单的赋值"
   ]
  },
  {
   "cell_type": "code",
   "execution_count": 43,
   "metadata": {},
   "outputs": [
    {
     "name": "stdout",
     "output_type": "stream",
     "text": [
      "调用 id() 函数 -> a：\n",
      "140329643779152\n",
      "\n",
      "\n",
      "b 拥有相同 id()：\n",
      "140329643779152\n",
      "\n",
      "\n",
      "修改 b 的形状：\n",
      "[[0 1]\n",
      " [2 3]\n",
      " [4 5]]\n",
      "\n",
      "\n",
      "a 的形状也修改了：\n",
      "[[0 1]\n",
      " [2 3]\n",
      " [4 5]]\n"
     ]
    }
   ],
   "source": [
    "import numpy as np \n",
    " \n",
    "a = np.arange(6)  \n",
    "\n",
    "print ('调用 id() 函数 -> a：')\n",
    "print (id(a))\n",
    "print('\\n')\n",
    "\n",
    "# 将 a 赋值给 b\n",
    "b = a \n",
    "print ('b 拥有相同 id()：')\n",
    "print (id(b))\n",
    "print('\\n')\n",
    "\n",
    "print ('修改 b 的形状：')\n",
    "b.shape =  3,2  \n",
    "print (b)\n",
    "print('\\n')\n",
    "\n",
    "print ('a 的形状也修改了：')\n",
    "print (a)\n"
   ]
  },
  {
   "attachments": {},
   "cell_type": "markdown",
   "metadata": {},
   "source": [
    "### 3.6.1 视图或浅拷贝\n",
    "- ndarray.view() 方会创建一个新的数组对象，该方法创建的新数组的维数变化不会改变原始数据的维数"
   ]
  },
  {
   "cell_type": "code",
   "execution_count": null,
   "metadata": {},
   "outputs": [],
   "source": [
    "# ndarray.view() 方会创建一个新的数组对象，该方法创建的新数组的维数变化不会改变原始数据的维数\n",
    "import numpy as np \n",
    " \n",
    "# 最开始 a 是个 3X2 的数组\n",
    "a = np.arange(6).reshape(3,2)  \n",
    "print ('数组 a：')\n",
    "print (a)\n",
    "print('\\n')\n",
    "\n",
    "print ('创建 a 的视图：')\n",
    "b = a.view()  \n",
    "print (b)\n",
    "print('\\n')\n",
    "\n",
    "print ('两个数组的 id() 不同：')\n",
    "print ('a 的 id()：')\n",
    "print (id(a))\n",
    "print('\\n')\n",
    "\n",
    "print ('b 的 id()：' )\n",
    "print (id(b))\n",
    "print('\\n')\n",
    "\n",
    "# 修改 b 的形状，并不会修改 a\n",
    "b.shape =  2,3\n",
    "print ('b 的形状：')\n",
    "print (b)\n",
    "print ('a 的形状：')\n",
    "print (a)\n",
    "print('\\n')\n"
   ]
  },
  {
   "cell_type": "code",
   "execution_count": 47,
   "metadata": {},
   "outputs": [
    {
     "name": "stdout",
     "output_type": "stream",
     "text": [
      "我们的数组：\n",
      "[ 0  1  2  3  4  5  6  7  8  9 10 11]\n",
      "\n",
      "\n",
      "创建切片：\n",
      "[  0   1   2   3 123 234   6   7   8   9  10  11]\n",
      "\n",
      "\n",
      "140329632214256 140329644478992 140329632214160\n"
     ]
    }
   ],
   "source": [
    "# 使用切片创建视图修改数据会影响到原始数组\n",
    "\n",
    "import numpy as np \n",
    " \n",
    "arr = np.arange(12)\n",
    "print ('我们的数组：')\n",
    "print (arr)\n",
    "print('\\n')\n",
    "\n",
    "print ('创建切片：')\n",
    "a = arr[3:]\n",
    "b = arr[3:]\n",
    "\n",
    "# 变量 a,b 都是 arr 的一部分视图，对视图的修改会直接反映到原数据中\n",
    "a[1] = 123\n",
    "b[2] = 234\n",
    "print(arr)\n",
    "print('\\n')\n",
    "print(id(a),id(b),id(arr[3:]))\n"
   ]
  },
  {
   "attachments": {},
   "cell_type": "markdown",
   "metadata": {},
   "source": [
    "### 3.6.2 副本或深拷贝\n",
    "- ndarray.copy() 函数创建一个副本。 对副本数据进行修改，不会影响到原始数据，它们物理内存不在同一位置"
   ]
  },
  {
   "cell_type": "code",
   "execution_count": 48,
   "metadata": {},
   "outputs": [
    {
     "name": "stdout",
     "output_type": "stream",
     "text": [
      "创建 a 的深层副本：\n",
      "数组 b：\n",
      "[[10 10]\n",
      " [ 2  3]\n",
      " [ 4  5]]\n",
      "\n",
      "\n",
      "我们能够写入 b 来写入 a 吗？\n",
      "False\n",
      "\n",
      "\n",
      "修改 b 的内容：\n",
      "修改后的数组 b：\n",
      "[[100  10]\n",
      " [  2   3]\n",
      " [  4   5]]\n",
      "a 保持不变：\n",
      "[[10 10]\n",
      " [ 2  3]\n",
      " [ 4  5]]\n"
     ]
    }
   ],
   "source": [
    "import numpy as np \n",
    " \n",
    "a = np.array([[10,10],  [2,3],  [4,5]])  \n",
    "\n",
    "print ('创建 a 的深层副本：')\n",
    "b = a.copy()  \n",
    "print ('数组 b：')\n",
    "print (b)\n",
    "print('\\n')\n",
    "\n",
    "# b 与 a 不共享任何内容  \n",
    "print ('我们能够写入 b 来写入 a 吗？')\n",
    "print (b is a)\n",
    "print('\\n')\n",
    "\n",
    "print ('修改 b 的内容：')\n",
    "b[0,0]  =  100  \n",
    "print ('修改后的数组 b：')\n",
    "print (b)\n",
    "print ('a 保持不变：')\n",
    "print (a)\n"
   ]
  },
  {
   "cell_type": "markdown",
   "metadata": {},
   "source": [
    "## 3.7伪随机数生成\n",
    "\n",
    "`nunpy.random` 模块填补了Python内建的 `random` 模块的不足。\n",
    "\n",
    "|函数|描述|\n",
    "|:---:|:---:|\n",
    "|seed|向随机数生成器传递随机状态种子|\n",
    "|permutation|返回一个序列的随机排列，或者返回一个乱序的整数范围序列|\n",
    "|shuffle|随机排列一个序列|\n",
    "|rand|从均匀分布中抽取样本|\n",
    "|randint|根据给定的由低到高的范围抽取随机整数|\n",
    "|randn|从均值0方差1的正态分布中抽取样本（MATLAB型接口）|\n",
    "|binomial|从二项分布中抽取样本|\n",
    "|normal|从正太（高斯）分布中抽取样本|\n",
    "|beta|从beta中抽取样本|\n",
    "|chisquare|从卡方分布中抽取样本|\n",
    "|gamma|从伽马分布中抽取样本|\n",
    "|uniform|从均匀[0,1)分布中抽取样本|"
   ]
  },
  {
   "cell_type": "code",
   "execution_count": 30,
   "metadata": {},
   "outputs": [
    {
     "name": "stdout",
     "output_type": "stream",
     "text": [
      "881 ms ± 87.5 ms per loop (mean ± std. dev. of 7 runs, 1 loop each)\n",
      "32.5 ms ± 6.21 ms per loop (mean ± std. dev. of 7 runs, 10 loops each)\n"
     ]
    }
   ],
   "source": [
    "import numpy as np \n",
    "\n",
    "# 正态分布样本数组\n",
    "samples = np.random.normal(size=(4, 4))\n",
    "\n",
    "# 相较于Python内建的random模块，numpy.random在生成大型样本时快了一个数量级\n",
    "from random import normalvariate\n",
    "N = 1000000\n",
    "%timeit samples = [normalvariate(0, 1) for _ in range(N)]\n",
    "%timeit np.random.normal(size=N)"
   ]
  },
  {
   "cell_type": "code",
   "execution_count": 31,
   "metadata": {},
   "outputs": [
    {
     "data": {
      "text/plain": [
       "array([ 0.47143516, -1.19097569,  1.43270697, -0.3126519 , -0.72058873,\n",
       "        0.88716294,  0.85958841, -0.6365235 ,  0.01569637, -2.24268495])"
      ]
     },
     "execution_count": 31,
     "metadata": {},
     "output_type": "execute_result"
    }
   ],
   "source": [
    "import numpy as np \n",
    "\n",
    "# 设置一个非全局状态的随机种子，使数据独立于其他的随机状态\n",
    "rng = np.random.RandomState(1234)\n",
    "rng.randn(10)"
   ]
  },
  {
   "attachments": {},
   "cell_type": "markdown",
   "metadata": {},
   "source": [
    "# 4.NumPy 和 Matplotlib 数据可视化"
   ]
  },
  {
   "cell_type": "code",
   "execution_count": null,
   "metadata": {},
   "outputs": [],
   "source": [
    "import numpy as np \n",
    "from matplotlib import pyplot as plt \n",
    " \n",
    "x = np.arange(1,11) \n",
    "y =  2  * x +  5 \n",
    "plt.title(\"Matplotlib demo\") \n",
    "plt.xlabel(\"x axis caption\") \n",
    "plt.ylabel(\"y axis caption\") \n",
    "plt.plot(x,y) \n",
    "plt.show()\n"
   ]
  },
  {
   "cell_type": "code",
   "execution_count": null,
   "metadata": {},
   "outputs": [],
   "source": [
    "# 有 bug ---> ValueError: Unrecognized marker style 'ob'\n",
    "import numpy as np \n",
    "from matplotlib import pyplot as plt \n",
    " \n",
    "x = np.arange(1,11) \n",
    "y =  2  * x +  5 \n",
    "plt.title(\"Matplotlib demo\") \n",
    "plt.xlabel(\"x axis caption\") \n",
    "plt.ylabel(\"y axis caption\") \n",
    "plt.plot(x,y, marker = \"ob\") \n",
    "plt.show()\n"
   ]
  },
  {
   "cell_type": "code",
   "execution_count": null,
   "metadata": {},
   "outputs": [],
   "source": [
    "from matplotlib import pyplot as plt \n",
    "x =  [5,8,10] \n",
    "y =  [12,16,6] \n",
    "x2 =  [6,9,11] \n",
    "y2 =  [6,15,7] \n",
    "plt.bar(x, y, align =  'center') \n",
    "plt.bar(x2, y2, color =  'g', align =  'center') \n",
    "plt.title('Bar graph') \n",
    "plt.ylabel('Y axis') \n",
    "plt.xlabel('X axis') \n",
    "plt.show()\n"
   ]
  },
  {
   "cell_type": "code",
   "execution_count": null,
   "metadata": {},
   "outputs": [],
   "source": [
    "from matplotlib import pyplot as plt \n",
    "import numpy as np  \n",
    " \n",
    "a = np.array([22,87,5,43,56,73,55,54,11,20,51,5,79,31,27]) \n",
    "plt.hist(a, bins =  [0,20,40,60,80,100]) \n",
    "plt.title(\"histogram\") \n",
    "plt.show()\n"
   ]
  },
  {
   "cell_type": "code",
   "execution_count": null,
   "metadata": {},
   "outputs": [],
   "source": [
    "import matplotlib.pyplot as plt\n",
    "import numpy as np\n",
    "\n",
    "# 创建一些测试数据 -- 图1\n",
    "x = np.linspace(0, 2*np.pi, 400)\n",
    "y = np.sin(x**2)\n",
    "\n",
    "# 创建一个画像和子图 -- 图2\n",
    "fig, ax = plt.subplots()\n",
    "ax.plot(x, y)\n",
    "ax.set_title('Simple plot')\n",
    "\n",
    "# 创建两个子图 -- 图3\n",
    "f, (ax1, ax2) = plt.subplots(1, 2, sharey=True)\n",
    "ax1.plot(x, y)\n",
    "ax1.set_title('Sharing Y axis')\n",
    "ax2.scatter(x, y)\n",
    "\n",
    "# 创建四个子图 -- 图4\n",
    "fig, axs = plt.subplots(2, 2, subplot_kw=dict(projection=\"polar\"))\n",
    "axs[0, 0].plot(x, y)\n",
    "axs[1, 1].scatter(x, y)\n"
   ]
  },
  {
   "attachments": {},
   "cell_type": "markdown",
   "metadata": {},
   "source": [
    "# 5.使用数组进行面向数组编程\n",
    "\n",
    "    使用NumPy数组表达式来替代显式循环的方法，称为向量化。通常向量化的数组操作会比纯Python的等价实现在速度上快一到两个数量级（甚至更多）"
   ]
  },
  {
   "cell_type": "code",
   "execution_count": 3,
   "metadata": {},
   "outputs": [
    {
     "name": "stdout",
     "output_type": "stream",
     "text": [
      "[[7.07106781 7.06400028 7.05693985 ... 7.04988652 7.05693985 7.06400028]\n",
      " [7.06400028 7.05692568 7.04985815 ... 7.04279774 7.04985815 7.05692568]\n",
      " [7.05693985 7.04985815 7.04278354 ... 7.03571603 7.04278354 7.04985815]\n",
      " ...\n",
      " [7.04988652 7.04279774 7.03571603 ... 7.0286414  7.03571603 7.04279774]\n",
      " [7.05693985 7.04985815 7.04278354 ... 7.03571603 7.04278354 7.04985815]\n",
      " [7.06400028 7.05692568 7.04985815 ... 7.04279774 7.04985815 7.05692568]]\n"
     ]
    },
    {
     "data": {
      "text/plain": [
       "Text(0.5, 1.0, 'Image plot of $\\\\sqrt{x^2+y^2}$ for a grid of values')"
      ]
     },
     "execution_count": 3,
     "metadata": {},
     "output_type": "execute_result"
    },
    {
     "data": {
      "image/png": "[encoded data removed]",
      "text/plain": [
       "<Figure size 432x288 with 2 Axes>"
      ]
     },
     "metadata": {
      "needs_background": "light"
     },
     "output_type": "display_data"
    }
   ],
   "source": [
    "import numpy as np\n",
    "import matplotlib.pyplot as plt\n",
    "\n",
    "# 二元通用函数\n",
    "points = np.arange(-5, 5, 0.01)     # 1000 equally spaced points\n",
    "xs, ys = np.meshgrid(points, points)\n",
    "z = np.sqrt(xs ** 2 + ys ** 2)\n",
    "print(z)\n",
    "\n",
    "# 可视化\n",
    "plt.imshow(z, cmap=plt.cm.gray); plt.colorbar() # 灰度图\n",
    "plt.title(\"Image plot of $\\sqrt{x^2+y^2}$ for a grid of values\")\n",
    "\n"
   ]
  },
  {
   "cell_type": "markdown",
   "metadata": {},
   "source": [
    "## 5.1将逻辑条件作为数组操作\n",
    "`numpy.where` 函数是三元表达式 `x if condition else y` 的向量化版"
   ]
  },
  {
   "cell_type": "code",
   "execution_count": 6,
   "metadata": {},
   "outputs": [
    {
     "name": "stdout",
     "output_type": "stream",
     "text": [
      "[1.1 2.2 1.3 1.4 2.5]\n",
      "[[ 2 -2  2  2]\n",
      " [-2 -2 -2  2]\n",
      " [ 2  2  2 -2]\n",
      " [-2 -2 -2 -2]]\n",
      "[[ 2.         -1.13874589  2.          2.        ]\n",
      " [-0.27552413 -0.52547922 -0.40007627  2.        ]\n",
      " [ 2.          2.          2.         -0.32187689]\n",
      " [-1.10252391 -0.37401831 -0.99881973 -0.64895819]]\n"
     ]
    }
   ],
   "source": [
    "import numpy as np\n",
    "xarr = np.array([1.1, 1.2, 1.3, 1.4, 1.5])\n",
    "yarr = np.array([2.1, 2.2, 2.3, 2.4, 2.5])\n",
    "cond = np.array([True, False, True, True, False])\n",
    "\n",
    "# 当cond中的元素为True时，取xarr中的元素，否则取yarr中的元素\n",
    "result = [(x if c else y) for x, y, c in zip(xarr, yarr, cond)]     # 计算量大\n",
    "result = np.where(cond, xarr, yarr)\n",
    "print(result)\n",
    "\n",
    "# np.where 的第二和第三个参数并不需要是数组，也可以是标量\n",
    "arr = np.random.randn(4, 4)\n",
    "print(np.where(arr > 0, 2, -2))     # 将所有正值替换成2，负值换成-2\n",
    "print(np.where(arr > 0, 2, arr))    # 将数组中所有正值替换成2"
   ]
  },
  {
   "cell_type": "markdown",
   "metadata": {},
   "source": [
    "## 5.2数学和统计方法\n",
    "- 其它见 **3.2数学函数**\n",
    "\n",
    "|函数名|描述|\n",
    "|:---:|:---:|\n",
    "|exp|计算每个元素的自然指数值e^x|\n",
    "|log、log10、log2、log1p|分别对应自然对数（e为底、10为底、2为底）|\n",
    "|sign|计算每个元素的符号值：1（正数）、0（0）、-1（负数）|\n",
    "|ceil|计算每个元素的最高整数值（即大于等于给定数值的最小整数）|\n",
    "|floor|计算每个元素的最小整数值（即小于等于给定元素的最大整数）|\n",
    "|rint|将元素保留到整数位，并保持dtype|\n",
    "|modf|分别将数组的小数部分按数组形式返回|\n",
    "|isnan|返回数组中的元素是否是一个NaN（不是一个数值）、形式为布尔值数组|\n",
    "|isfinite、isinf|分别返回数组中的元素是否有限（非inf、非NaN）、是否无限，形式为布尔值数组|\n",
    "|cos、cosh、sin、sinh、tan、tanh|常规的双曲三角函数|\n",
    "|arccos、arccosh、arcsin、arcsinh、arctan、arctanh|反三角函数|\n",
    "|logical_not|对数组的元素按位取反（与~arr效果一致）|"
   ]
  },
  {
   "cell_type": "code",
   "execution_count": 11,
   "metadata": {},
   "outputs": [
    {
     "name": "stdout",
     "output_type": "stream",
     "text": [
      "[[-1.83824424 -1.16058973  0.85968759  1.53040236]\n",
      " [-0.69915625 -0.18862246  0.09881107 -0.87000935]\n",
      " [ 0.12640477  1.615308    1.39722809  0.91743781]\n",
      " [-0.7046685   0.21500915 -1.68545588  1.26786362]\n",
      " [ 0.82194226  0.93324251  0.87573676 -0.17565438]]\n",
      "\n",
      " [-0.152186   -0.41474425  1.01409467 -0.2268129   0.61381679]\n",
      "\n",
      " [[ 0  1  2]\n",
      " [ 3  5  7]\n",
      " [ 9 12 15]]\n",
      "\n",
      " [[  0   0   0]\n",
      " [  3  12  60]\n",
      " [  6  42 336]]\n"
     ]
    }
   ],
   "source": [
    "import numpy as np\n",
    "arr = np.random.randn(5, 4)\n",
    "print(arr)\n",
    "\n",
    "# 0是行，1是列，计算每一列上的平均值\n",
    "print('\\n', arr.mean(axis=1))\n",
    "\n",
    "# cumsum返回相同长度的数组，在指定轴向上根据较低维度的切片进行部分聚合\n",
    "arr = np.array([[0, 1, 2], [3, 4, 5], [6, 7, 8]])\n",
    "print('\\n', arr.cumsum(axis=0))\n",
    "print('\\n', arr.cumprod(axis=1))"
   ]
  },
  {
   "cell_type": "markdown",
   "metadata": {},
   "source": [
    "## 5.3布尔值数组方法\n",
    "\n",
    "- 布尔值被强制为1（True）和0（False），因此，sum通常可以用于计算布尔值数组中的True的个数"
   ]
  },
  {
   "cell_type": "code",
   "execution_count": 15,
   "metadata": {},
   "outputs": [
    {
     "name": "stdout",
     "output_type": "stream",
     "text": [
      "[ 1.70811026 -0.55011679  0.40655413  2.11471841  0.64827799 -0.94422422\n",
      "  0.48549352  1.04333699  1.71570067 -0.28317447  0.53082757  1.66048282\n",
      " -1.35159689  0.95161101  1.65510286  0.41620705 -0.55227589  0.45318492\n",
      " -0.41780486  1.81712825 -0.06877136  1.18385015 -0.62486099  0.24558988\n",
      " -0.56960719 -1.92929431  2.77979161 -0.72586971  0.22959051  0.99745669\n",
      " -1.6942429  -0.2414616  -0.16609109  1.42045178 -0.64139369  1.68466539\n",
      "  1.31779077  2.36044449  0.8871354  -1.04232886  0.95657675  0.76617123\n",
      " -0.7195649  -0.03225488 -0.56710691 -0.87398551 -1.38782144 -0.45614308\n",
      "  0.52199404  0.19038328  0.29401199 -1.19353902 -0.68126069 -0.52081125\n",
      " -1.11787462  1.35237565 -0.07427981 -0.73536511  0.2957411   1.14891838\n",
      "  0.17966039  0.15529957 -0.26388601 -0.26892038  0.76769328  0.18487965\n",
      " -0.61386131 -0.89398214 -0.73639624  0.10173515  0.75945053  0.31588913\n",
      "  0.38402471 -0.69648457 -0.90306774 -0.04084057 -0.38364935 -1.07229117\n",
      " -1.22586347 -0.435795    1.73655757  0.16206958  1.07007028 -0.30203098\n",
      "  1.44621527 -0.70884592  1.1109958  -1.79732889  1.41680687  1.00679741\n",
      " -1.28876642 -0.04698323  1.57909465  0.41702274  0.77593459 -0.79573945\n",
      "  1.25696646 -1.61058052  0.03257434 -0.3948178 ]\n",
      "\n",
      "正值的个数为：52\n",
      "\n",
      "至少有一个真值： True\n",
      "\n",
      "全部都是真值： False\n"
     ]
    }
   ],
   "source": [
    "arr = np.random.randn(100)\n",
    "print(arr)\n",
    "print(\"\\n正值的个数为：%d\\n\" % ((arr > 0).sum()))\n",
    "\n",
    "# any检查数组中是否至少有一个True，而all检查是否每个值都是True\n",
    "bools = np.array([False, False, True, False])\n",
    "print('至少有一个真值：', bools.any())\n",
    "print(\"\\n全部都是真值：\", bools.all())"
   ]
  },
  {
   "cell_type": "markdown",
   "metadata": {},
   "source": [
    "# 6.使用数组进行文件输入输出\n",
    "\n",
    "NumPy 可以在硬盘中将数据以文本或二进制文件的形式进行存入硬盘或由硬盘载入。"
   ]
  },
  {
   "cell_type": "code",
   "execution_count": 18,
   "metadata": {},
   "outputs": [
    {
     "name": "stdout",
     "output_type": "stream",
     "text": [
      "[0 1 2 3 4 5 6 7 8 9]\n"
     ]
    }
   ],
   "source": [
    "import numpy as np\n",
    "\n",
    "# 数组在默认情况下是以压缩的格式存储的，后缀名是.npy\n",
    "arr = np.arange(10)\n",
    "np.save('some_array', arr)      # 如果文件存放路径中没写.npy时，后缀名会被自动加上\n",
    "np.load('some_array.npy')\n",
    "\n",
    "# 在未压缩文件中保存多个数组\n",
    "np.savez('array_archive.npz', a=arr, b=arr)\n",
    "arch = np.load('array_archive.npz')\n",
    "print(arch['b'])\n",
    " "
   ]
  },
  {
   "cell_type": "markdown",
   "metadata": {},
   "source": [
    "# 7.随机漫步"
   ]
  },
  {
   "cell_type": "code",
   "execution_count": 37,
   "metadata": {},
   "outputs": [
    {
     "name": "stdout",
     "output_type": "stream",
     "text": [
      "105\n"
     ]
    }
   ],
   "source": [
    "import random\n",
    "import numpy as np\n",
    "\n",
    "# 从0开始，步进为1和-1的发生概率相等\n",
    "position = 0\n",
    "walk = [position]\n",
    "steps = 1000\n",
    "for i in range(steps):\n",
    "    step = 1 if random.randint(0, 1) else -1\n",
    "    position += step\n",
    "    walk.append\n",
    "\n",
    "\n",
    "# 使用np.random模块一次性抽取1,000次投掷硬币的结果，每次投掷结果为1或-1，然后计算累计值：\n",
    "nsteps = 1000\n",
    "draws = np.random.randint(0, 2, size=nsteps)\n",
    "steps = np.where(draws>0, 1, -1)\n",
    "walk = steps.cumsum()\n",
    "# 如果想要知道何时连续朝同一方向走了十步【np.abs(walk)>=0】，应该考虑在众多次走十步中选择第一次走了十步的位置，用argmax计算\n",
    "print((np.abs(walk)>=10).argmax())"
   ]
  },
  {
   "cell_type": "code",
   "execution_count": 40,
   "metadata": {},
   "outputs": [
    {
     "name": "stdout",
     "output_type": "stream",
     "text": [
      "walks.max() is  136\n",
      "\n",
      "walks.min() is  -130\n",
      "\n",
      "hits30:\n",
      " [False False False ...  True  True False]\n",
      "\n",
      " 499.8334300638421\n"
     ]
    }
   ],
   "source": [
    "import random\n",
    "import numpy as np\n",
    "\n",
    "# 一次性模拟多次随机漫步\n",
    "nwalks = 5000\n",
    "nsteps = 1000\n",
    "draws = np.random.randint(0, 2, size=(nwalks, nsteps))\n",
    "steps = np.where(draws > 0, 1, -1)\n",
    "walks = steps.cumsum(1)\n",
    "print(\"walks.max() is \", walks.max())\n",
    "print(\"\\nwalks.min() is \", walks.min())\n",
    "\n",
    "hits30 = (np.abs(walks >= 30).any(1))\n",
    "print(\"\\nhits30:\\n\", hits30)\n",
    "crossing_times = (np.abs(walks[hits30]) >= 30).argmax(1)\n",
    "print('\\n', crossing_times.mean())"
   ]
  },
  {
   "cell_type": "code",
   "execution_count": null,
   "metadata": {},
   "outputs": [],
   "source": []
  }
 ],
 "metadata": {
  "kernelspec": {
   "display_name": "deeplearning",
   "language": "python",
   "name": "python3"
  },
  "language_info": {
   "codemirror_mode": {
    "name": "ipython",
    "version": 3
   },
   "file_extension": ".py",
   "mimetype": "text/x-python",
   "name": "python",
   "nbconvert_exporter": "python",
   "pygments_lexer": "ipython3",
   "version": "3.7.13"
  },
  "orig_nbformat": 4,
  "vscode": {
   "interpreter": {
    "hash": "a3f599b3f50d166f8188fd373df540ff51a2223b7cd2b97c190a7287b10e7852"
   }
  }
 },
 "nbformat": 4,
 "nbformat_minor": 2
}
