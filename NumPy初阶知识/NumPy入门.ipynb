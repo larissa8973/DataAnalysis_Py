# 一、 数据结构     

## 1.Series()

`pandas.Series(data, index, dtype, name, copy)`

将数据展开成带索引值的一列

<font color='red'>参数说明：</font>

> - data：一组数据(ndarray 类型)
>
> - index：数据索引标签，如果不指定，默认从 0 开始。
>
> - dtype：数据类型，默认会自己判断
>
> - name：设置名称
>
> - copy：拷贝数据，默认为 False
