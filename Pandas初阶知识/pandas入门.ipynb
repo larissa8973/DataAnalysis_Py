{
 "cells": [
  {
   "attachments": {},
   "cell_type": "markdown",
   "metadata": {},
   "source": [
    "# pandas 入门\n",
    "\n",
    "- 官方文档中强调，Pandas 项目名称中的字母应全部小写，且导入程序库的语句为：`import pandas as pd`\n",
    "- Pandas 起初是被作为金融数据分析工具开发出来的，其名称来源于面板数据(Panel Data)和Python 数据分析(Data Analysis)，Panel Data 是经济学中关于多维数据集的一个术语\n",
    "- 支持绝大部分NumPy风格的数组计算，不同的是，NumPy用于处理同质性的数值类型数组数据，而pandas是用来处理表格型或异质型数据的\n",
    "\n",
    "1. 数据结构     \n",
    "    1. `pandas.Series(data, index, dtype, name, copy)`          -> 一维数组\n",
    "    2. `pandas.DataFrame(data, index, colume, dtype, copy)`     -> 二维数组\n",
    "    3. `pandas.Panel(data=None, items=None, major_axis=None, minor_axis=None, copy=False, dtype=None)`  -> 三维数组\n",
    "2. 基本功能\n",
    "    1. 重建索引\n",
    "    2. 轴向上删除条目\n",
    "    3. 索引、选择与过滤\n",
    "    4. 运算、数据对齐\n",
    "        1. 使用填充值的算术方法\n",
    "        2. DataFrame和Series间的操作\n",
    "    5. 函数应用和映射\n",
    "    6. 排序和排名\n",
    "    7. 含有重复标签的轴索引\n",
    "3. 描述性统计的概述与计算\n",
    "4. 数据的输入与输出\n",
    "    1. 处理***CSV、JSON文件***\n",
    "    2. 《Python for Data Analysis(Second Edition)》\n",
    "5. 数据清洗\n",
    "    1. 删除空值\n",
    "    2. 替换空值\n",
    "    3. 清洗格式错误的数据\n",
    "        1. 格式化日期\n",
    "        2. 更改错误年龄\n",
    "        3. 删除重复数据\n",
    "6. 数据规整：连接、联合与重塑\n",
    "    1. 分层索引\n",
    "        1. 重排序和层级排序\n",
    "        2. 按层级进行汇总统计\n",
    "        3. 使用DataFrame的列进行索引\n",
    "    2. 联合与合并数据集\n",
    "        1. 数据库风格的DataFrame连接\n",
    "        2. 根据索引合并\n",
    "        3. 沿轴向连接\n",
    "        4. 联合重叠数据\n",
    "    3. 重塑和透视\n",
    "        1. 使用多层索引进行重塑\n",
    "        2. 将“长”透视为“宽”\n",
    "        3. 将“宽”透视为“长” \n",
    "7. 数据聚合与分组操作\n",
    "    - 《Python for Data Analysis(Second Edition)》\n",
    "8. 绘图与可视化\n",
    "    1. 图片与子图\n",
    "    2. 使用pandas和seaborn绘图\n",
    "    3. 直方图和密度图\n",
    "    4. 散点图或点图\n",
    "    5. 分面网络和分类数据\n",
    "    6. 其他Python可视化工具\n",
    "9. 时间序列\n",
    "    - 《Python for Data Analysis(Second Edition)》\n",
    "10. pandas高级应用\n",
    "    - 《Python for Data Analysis(Second Edition)》"
   ]
  },
  {
   "attachments": {},
   "cell_type": "markdown",
   "metadata": {},
   "source": [
    "# 一、 数据结构     \n",
    "\n",
    "## 1.Series()\n",
    "\n",
    "`pandas.Series(data, index, dtype, name, copy)`\n",
    "\n",
    "将数据展开成带索引值的一列\n",
    "\n",
    "<font color='red'>参数说明：</font>\n",
    "\n",
    "> - data：一组数据(ndarray 类型)\n",
    ">\n",
    "> - index：数据索引标签，如果不指定，默认从 0 开始。\n",
    ">\n",
    "> - dtype：数据类型，默认会自己判断\n",
    ">\n",
    "> - name：设置名称\n",
    ">\n",
    "> - copy：拷贝数据，默认为 False"
   ]
  },
  {
   "cell_type": "code",
   "execution_count": 1,
   "metadata": {},
   "outputs": [
    {
     "name": "stdout",
     "output_type": "stream",
     "text": [
      "1     Alex\n",
      "2      Bob\n",
      "3    Clara\n",
      "dtype: object \n",
      "\n",
      "1    Google\n",
      "2    Runoob\n",
      "Name: RUNOOB-Series-TEST, dtype: object\n"
     ]
    }
   ],
   "source": [
    "import pandas as pd\n",
    "\n",
    "a = ['Alex', 'Bob', 'Clara']\n",
    "my_var = pd.Series(a, index=[1, 2, 3])\n",
    "\n",
    "sites = {1: \"Google\", 2: \"Runoob\", 3: \"Wiki\"}\n",
    "myvar = pd.Series(sites, index = [1, 2], name=\"RUNOOB-Series-TEST\" )    # 若只需要字典的部分值，则在索引值中指定范围\n",
    "\n",
    "\n",
    "print(my_var, '\\n')\n",
    "print(myvar)\n"
   ]
  },
  {
   "cell_type": "code",
   "execution_count": 2,
   "metadata": {},
   "outputs": [
    {
     "name": "stdout",
     "output_type": "stream",
     "text": [
      "Ohio      35000\n",
      "Texas     71000\n",
      "Oregon    16000\n",
      "Utah       5000\n",
      "dtype: int64\n",
      "\n",
      "重新排序后的字典：\n",
      " California        NaN\n",
      "Oregon        16000.0\n",
      "Texas         71000.0\n",
      "Ohio          35000.0\n",
      "Utah           5000.0\n",
      "dtype: float64\n",
      "\n",
      "检查缺失的数据：\n",
      " California     True\n",
      "Oregon        False\n",
      "Texas         False\n",
      "Ohio          False\n",
      "Utah          False\n",
      "dtype: bool\n"
     ]
    }
   ],
   "source": [
    "# 可以认为Series是一个长度固定且有序的字典\n",
    "import pandas as pd\n",
    "\n",
    "sdata = {'Ohio': 35000, 'Texas': 71000, 'Oregon': 16000, 'Utah': 5000}\n",
    "obj = pd.Series(sdata)\n",
    "print(obj)\n",
    "\n",
    "# 将字典的值按理想的键值排序\n",
    "states = ['California', 'Oregon', 'Texas', 'Ohio', 'Utah']\n",
    "obj = pd.Series(sdata, index=states)\n",
    "print('\\n重新排序后的字典：\\n', obj)\n",
    "print('\\n检查缺失的数据：\\n', pd.isnull(obj))       # 还可以用'pd.notnull(obj)'，isnull和notnull也是Series中的实例方法: obj.isnull\n"
   ]
  },
  {
   "attachments": {},
   "cell_type": "markdown",
   "metadata": {},
   "source": [
    "## 2.DataFrame()\n",
    "`pandas.DataFrame( data, index, columns, dtype, copy)`\n",
    "\n",
    "DataFrame 是一个矩阵的数据表，它含有一组有序的列，每列可以是不同的值类型（数值、字符串、布尔值等）。DataFrame 既有行索引也有列索引，它可以被看做由 Series 组成的字典（共同用一个索引），可用**分层索引**展现更高维度的数据\n",
    "\n",
    "<font color='red'>参数说明：</font>\n",
    "\n",
    "> - data：一组数据(ndarray、series, map, lists, dict 等类型)\n",
    ">\n",
    "> - index：索引值，或者可以称为行标签\n",
    ">\n",
    "> - columns：列标签，默认为 RangeIndex (0, 1, 2, …, n) \n",
    ">\n",
    "> - dtype：数据类型\n",
    ">\n",
    "> - copy：拷贝数据，默认为 False\n",
    "\n",
    "<font color='yellow'>从DataFrame中选区的列是数据的视图，而不是拷贝。对Series的修改会映射到DataFrame中去</font>"
   ]
  },
  {
   "cell_type": "markdown",
   "metadata": {},
   "source": [
    "### ①基本构造及属性\n",
    "\n",
    "|类型|注释|\n",
    "|:---:|:---:|\n",
    "|2D ndarray|数据的矩阵，行和列的标签是可选的参数|\n",
    "|数组、列表和元组构成的字典|每个序列成为DataFrame的一列，所有的序列必须长度相等|\n",
    "|NumPy结构化/记录化数组|与数组构成的字典一致|\n",
    "|Series构成的字典|每个值成为一列，每个Series的索引联合起来形成结果的行索引，也可以显式地传递索引|\n",
    "|字典构成的字典|每一个内部字典成为一列，键联合起来形成结果的行索引|\n",
    "|字典或Series构成的列表|列表中的一个元素形成DataFrame的一行，字典键或Series索引联合起来形成DataFrame的列标签|\n",
    "|列表或元组构成的列表|与2D ndarray的情况一致|\n",
    "|其他DataFrame|如果不显示传递索引，则会使用原DataFrame的索引|\n",
    "|NumPy MakesArray|与2D ndarray的情况类似，但隐藏值会在结果DataFrame中成为NA/缺失值|"
   ]
  },
  {
   "cell_type": "code",
   "execution_count": 3,
   "metadata": {},
   "outputs": [
    {
     "name": "stdout",
     "output_type": "stream",
     "text": [
      "     Site  Age\n",
      "0  Google    1\n",
      "1   Baidu    2\n",
      "2    Wiki    3\n"
     ]
    }
   ],
   "source": [
    "import pandas as pd\n",
    "\n",
    "data = [['Google',1],['Baidu',2],['Wiki',3]]\n",
    "df = pd.DataFrame(data,columns=['Site','Age'] )\n",
    "\n",
    "print(df)"
   ]
  },
  {
   "cell_type": "code",
   "execution_count": null,
   "metadata": {},
   "outputs": [],
   "source": [
    "# 常见的是利用多个同等长度的列表或NumPy数组组成的字典形成 DataFrame\n",
    "import pandas as pd\n",
    "\n",
    "data = {'name': ['Alex', 'Bob', 'Charlie', 'Dave', 'Emily'],\n",
    "        'birth': [2001, 2000, 1989, 2001, 2003],\n",
    "        'score': [96., 97.8, 99, 94., 90.3]}\n",
    "frame = pd.DataFrame(data)\n",
    "print(frame)\n",
    "print('\\n重新排序过的表格：\\n', pd.DataFrame(data, columns=['name', 'score', 'birth']))\n",
    "frame2 = pd.DataFrame(data, columns=['name', 'score', 'birth', 'gender'], index=['one', 'two', 'three', 'four', 'five'])\n",
    "print('\\n未初始化键值的指定列下会出现缺失值：\\n',frame2)\n",
    "\n",
    "# 可以按字典型标记或属性那样检索为：Series\n",
    "print('\\n检索姓名：\\n', frame2['name'])\n",
    "print('\\n检索分数：\\n', frame2.score)\n",
    "# 通过位置或特殊属性进行选取\n",
    "print('\\n位置\\'three\\'索引：\\n', frame2.loc['three'])\n",
    "\n",
    "# 如果将Series赋值给一列时，Series的索引将会按照DataFrame的索引重新排列，并在空缺的地方填充缺失值\n",
    "val = pd.Series(['F', 'M', 'M'], index=['five', 'one', 'two'])\n",
    "frame2['gender'] = val\n",
    "print('\\n补充上空缺值后：\\n', frame2)\n",
    "\n",
    "del frame2['birth']\n",
    "print('\\n删除生日一列后：\\n', frame2)\n"
   ]
  },
  {
   "cell_type": "code",
   "execution_count": null,
   "metadata": {},
   "outputs": [],
   "source": [
    "# 嵌套字典\n",
    "import pandas as pd\n",
    "\n",
    "nestedDict = {'Nevada': {2001: 2.4, 2002: 2.9}, 'Ohio': {2000: 1.5, 2002: 1.7, 2004: 3.6}}\n",
    "frame3 = pd.DataFrame(nestedDict)\n",
    "print('\\n原始的列表：\\n', frame3)\n",
    "\n",
    "print('\\n转置后的列表：\\n', frame3.T)\n",
    "\n",
    "pdata = {'Ohio': frame3['Ohio'][:-1], 'Nevada': frame3['Nevada'][:2]}\n",
    "print('\\n', pd.DataFrame(pdata))"
   ]
  },
  {
   "cell_type": "markdown",
   "metadata": {},
   "source": [
    "### ②索引对象\n",
    "\n",
    "|方法|描述|\n",
    "|:---:|:---:|\n",
    "|append|将额外的索引对象粘贴到原数据结构中后，产生一个新的索引|\n",
    "|diffarance|计算两索引的差集|\n",
    "|intersection|计算两索引的交集|\n",
    "|union|计算两索引的并集|\n",
    "|isin|计算表示每一个值是否在传值容器中的布尔数组|\n",
    "|delete|将位置i的元素删除，并产生新的索引|\n",
    "|drop|根据传参删除指定索引值，并产生新的索引|\n",
    "|insert|在位置i插入元素，并产生新的索引|\n",
    "|is_monotonic|如果索引序列递增的话返回True|\n",
    "|is_unique|如果索引序列惟一的话返回True|\n",
    "|unique|计算索引的唯一值序列|"
   ]
  },
  {
   "cell_type": "code",
   "execution_count": null,
   "metadata": {},
   "outputs": [],
   "source": [
    "import pandas as pd\n",
    "import numpy as np\n",
    "\n",
    "obj = pd.Series(range(3), index=['a', 'b', 'c'])\n",
    "index = obj.index\n",
    "print(index[1:])\n",
    "\n",
    "# 索引对象不可变，因此用户不可修改；但根据索引对象可以修改对应的值\n",
    "# 不变性使得在多种数据结构中分享索引对象更安全\n",
    "labels = pd.Index(np.arange(3))\n",
    "obj1 = pd.Series([1.5, -1, 0], index=labels)\n",
    "print(\"labels is obj1.index: \", labels is obj1.index)\n",
    "\n",
    "# 与Python集合不同，pandas索引可以包含重复标签\n",
    "dup_labels = pd.Index(['Apple', 'Banana', 'Apple', 'Pear'])\n",
    "print(dup_labels)"
   ]
  },
  {
   "attachments": {},
   "cell_type": "markdown",
   "metadata": {},
   "source": [
    "## 3.Panel()\n",
    "\n",
    "`pandas.Panel(data=None, items=None, major_axis=None, minor_axis=None, copy=False, dtype=None)`\n",
    "\n",
    "`pandas.Panel()` represents wide format panel data, stored as 3-dimensional array\n",
    "\n",
    "<font color='red'>参数说明：</font>\n",
    "\n",
    "> - data : ndarray (items x major x minor), or dict of DataFrames\n",
    ">\n",
    "> - tems : Index or array-like\n",
    "    axis=0\n",
    "    major_axis : Index or array-like\n",
    "    axis=1\n",
    "    minor_axis : Index or array-like\n",
    "    axis=2\n",
    ">\n",
    "> - dtype : dtype, default None\n",
    ">\n",
    "> - Data type to force, otherwise infer\n",
    ">\n",
    "> - copy : boolean, default False\n",
    ">\n",
    "> - Copy data from inputs. Only affects DataFrame / 2d ndarray input\n",
    "\n",
    "- 详见[官方文档](https://pandas.pydata.org/pandas-docs/version/0.23.4/generated/pandas.Panel.html)"
   ]
  },
  {
   "cell_type": "markdown",
   "metadata": {},
   "source": [
    "# 二、基本功能"
   ]
  },
  {
   "cell_type": "markdown",
   "metadata": {},
   "source": [
    "## 1.重建索引\n",
    "\n",
    "`obj.reindex(index, method, fill_value, limit, tolerance, level, copy)` \n",
    "\n",
    "用于创建一个个符合新索引的新对象。\n",
    "\n",
    "<font color='red'>参数说明如下：</font>\n",
    "\n",
    "> \n",
    "> - index: 新建作为索引的序列，可以是索引实例或任意其他序列型Python数据结构，索引使用时无需复制\n",
    ">\n",
    "> - method: 插值方式，'ffill'为前向填充，'bfill'是后向填充\n",
    ">\n",
    "> - limit: 当前向或后向填充时，所需填充的最大尺寸间隙（以元素数量）\n",
    ">\n",
    "> - tolerance: 当前向或后向填充时，所需填充的不精确匹配下的最大尺寸间隙（以绝对数字距离）\n",
    ">\n",
    "> - level: 匹配MultiIndex级别的简单索引；否则选择子集\n",
    ">\n",
    "> - copy: 如果为True，即使新索引等于旧索引，也总是复制底层数据；如果是False，则在索引相同时不要复制数据\n",
    ">"
   ]
  },
  {
   "cell_type": "code",
   "execution_count": null,
   "metadata": {},
   "outputs": [],
   "source": [
    "import pandas as pd\n",
    "\n",
    "obj = pd.Series([4.5, 7.2, -5.3, 3.6], index=['d', 'b', 'a', 'c'])\n",
    "obj2 = obj.reindex(['a', 'b', 'c', 'd', 'e'])\n",
    "print(\"obj2按照新的顺序排列后：\\n\", obj2)           # 即改变行索引\n",
    "\n",
    "obj3 = pd.Series(['blue', 'purple', 'yellow'], index=[0, 2, 4])\n",
    "print(\"\\nobj3数据对象如下所示：\\n\", obj3)\n",
    "print(\"\\nobj3数据对象插值后如下所示：\\n\", obj3.reindex(range(6), method='ffill'))\n",
    "\n",
    "# 既可以改变行索引，也可以改变列索引\n",
    "obj3 = pd.DataFrame(np.arange(9).reshape((3, 3)), index=['a', 'c', 'd'], columns=['number', 'color', 'level'])\n",
    "print(\"\\nobj3数据对象重置后如下所示：\\n\", obj3)\n",
    "frame = obj3.reindex(columns=['number', 'Like', 'color'])\n",
    "print(\"\\nobj3数据对象改变列索引后如下所示：\\n\", frame)\n",
    "print(\"\\nobj3数据对象改变行索引后如下所示：\\n\", obj3.reindex(['a', 'b', 'c', 'd']))\n"
   ]
  },
  {
   "cell_type": "markdown",
   "metadata": {},
   "source": [
    "## 2.轴向上删除条目\n",
    "\n",
    "`drop()`方法会返回一个含有指示值或轴向上删除值的新对象"
   ]
  },
  {
   "cell_type": "code",
   "execution_count": null,
   "metadata": {},
   "outputs": [],
   "source": [
    "import pandas as pd\n",
    "\n",
    "data = pd.DataFrame(np.arange(16).reshape((4, 4)), \n",
    "                    index=['Ohio', 'Colorado', 'Utah', 'New York'], \n",
    "                    columns=['one', 'two', 'three', 'four'])\n",
    "print(data)\n",
    "\n",
    "# 在调用drop时使用“标签序列”会根据行标签删除值（轴0）\n",
    "print(\"\\n调用drop方法删除之后：\\n\", data.drop(['Colorado', 'Ohio']))\n",
    "print(\"\\n沿轴1，即\\'axis=1\\'或\\'axis=columns\\'：\\n\", data.drop('two', axis=1))\n",
    "\n",
    "# 该方法都是直接在源对象上操作，而不返回新对象；📢注意：inplace会清除被删除的数据\n",
    "data.drop(['New York'], inplace=True)"
   ]
  },
  {
   "cell_type": "markdown",
   "metadata": {},
   "source": [
    "## 3.索引、选择与过滤\n",
    "\n",
    "- 索引（详见1.2“索引对象”）\n",
    "    - 普通索引（键值索引）\n",
    "    - 切片索引\n",
    "    - 条件索引\n",
    "- 选择（行标签索引）\n",
    "    - `.loc[]` \n",
    "    - `.iloc()`\n",
    "- 过滤（索引+切片）\n",
    "\n",
    "|类型|描述|\n",
    "|:---:|:---:|\n",
    "|df[val]|从DataFrame中选择单列或列序列；特殊情况的便利：布尔数组（过滤行），切片（切片行）或布尔值DataFrame|\n",
    "|df.loc[val]|根据标签选择DataFrame的单行或多行|\n",
    "|df.loc[:, val]|根据标签选择单列或多列|\n",
    "|df.loc[val1, val2]|同时选择行和列的一部分|\n",
    "|df.iloc[where]|根据整数位置选择单行或多行|\n",
    "|df.iloc[:, where]|根据整数位置选择单列或多列|\n",
    "|df.iloc[where_i, where_j]|根据整数位置选择行和列|\n",
    "|df.at[label_i, label_j]|根据行、列标签选择单个标量值|\n",
    "|df.iat[i, j]|根据行、列整数位置选择单个标量值|\n",
    "|reindex方法|通过标签选择行或列|\n",
    "|get_value, set_value|根据行和列的标签设置单个值|"
   ]
  },
  {
   "cell_type": "code",
   "execution_count": null,
   "metadata": {},
   "outputs": [],
   "source": [
    "import pandas as pd\n",
    "import numpy as np\n",
    "\n",
    "\"\"\" 索引 \"\"\"\n",
    "obj = pd.Series(np.arange(4.), index=['a', 'b', 'c', 'd'])\n",
    "data = pd.DataFrame(np.arange(16).reshape((4, 4)), \n",
    "                    index=['Ohio', 'Colorado', 'Utah', 'New York'], \n",
    "                    columns=['one', 'two', 'three', 'four'])\n",
    "\n",
    "# 普通的Python切片是不包含尾部的，但Series不一样\n",
    "print(obj['b':'c'], '\\n')\n",
    "# 键值索引\n",
    "print(data[['three', 'one']], '\\n')\n",
    "# 条件索引\n",
    "print(data[data['three']>5], '\\n')\n",
    "\n",
    "\"\"\" 选择 \"\"\"\n",
    "print(data.loc['Colorado', ['two', 'three']], '\\n')\n",
    "print(data.iloc[2, [3, 0, 1]], '\\n')      # 以NumPy的语言风格选择——先选轴0，再选轴1（就是将二维数组降维分别选择）\n",
    "\n",
    "\"\"\" 过滤 \"\"\"\n",
    "print(data.iloc[:, :3][data.three > 5])"
   ]
  },
  {
   "cell_type": "markdown",
   "metadata": {},
   "source": [
    "## 4.运算、数据对齐\n",
    "\n",
    "将两个对象相加时，如果存在某个索引对不相同，则返回结果的索引将是索引对的并集，这类似于索引标签的自动连接（outer join）。"
   ]
  },
  {
   "cell_type": "code",
   "execution_count": null,
   "metadata": {},
   "outputs": [],
   "source": [
    "import pandas as pd\n",
    "\n",
    "s1 = pd.Series([7.3, -2.5, 3.4, 1.5], index=['a', 'c', 'd', 'e'])\n",
    "s2 = pd.Series([-2.1, 3.6, -1.5, 4, 3.1], index=['a', 'c', 'e', 'f', 'g'])\n",
    "\n",
    "\"\"\" print(\"s1:\\n\", s1, '\\n')\n",
    "print(\"s2:\\n\", s2, '\\n')\n",
    "print(\"s1+s2:\\n\", s1+s2, '\\n') \"\"\"\n",
    "\n",
    "data1 = pd.DataFrame(np.arange(9.).reshape((3, 3)), columns=list('bcd'), index=['Ohio', 'Texas', 'Colorado'])\n",
    "data2 = pd.DataFrame(np.arange(12.).reshape((4, 3)), columns=list('bde'), index=['Utah', 'Ohio', 'Texas', 'Oregon'])\n",
    "\n",
    "\n",
    "print(\"data1:\\n\", data1, '\\n')\n",
    "print(\"data2:\\n\", data2, '\\n')\n",
    "print(\"data1+data2:\\n\", data1+data2, '\\n') "
   ]
  },
  {
   "cell_type": "markdown",
   "metadata": {},
   "source": [
    "### ①使用填充值的算术方法\n",
    "\n",
    "比如当轴标签在一个对象中存在，在另一个对象中不存在时，打算将缺失值填充为0\n",
    "\n",
    "<font color='red'>算术方法：</font>\n",
    "\n",
    "|方法|描述|\n",
    "|:---:|:---:|\n",
    "|add, radd|加法 `+`|\n",
    "|sub, rsub|减法 `-`|\n",
    "|div, rdiv|除法 `/`|\n",
    "|floordiv, rfloordiv|整除 `//`|\n",
    "|mul, rmul|乘法 `*`|\n",
    "|pow, rpow|幂次方 `**`|"
   ]
  },
  {
   "cell_type": "code",
   "execution_count": null,
   "metadata": {},
   "outputs": [],
   "source": [
    "import pandas as pd\n",
    "\n",
    "df1 = pd.DataFrame(np.arange(12.).reshape((3, 4)), columns=list('abcd'))\n",
    "df2 = pd.DataFrame(np.arange(20.).reshape((4, 5)), columns=list('abcde'))\n",
    "\n",
    "# 将 df2 上某位置的值改为NaN\n",
    "df2.loc[1, 'b'] = np.nan\n",
    "# 在 df1 上使用add方法，将 df2 和一个fill_value作为参数传入\n",
    "print(df1.add(df2, fill_value=0))\n",
    "\n",
    "# 也可以用fill_value传参重建df1的索引\n",
    "df1.reindex(columns=df2.columns, fill_value=0)"
   ]
  },
  {
   "cell_type": "markdown",
   "metadata": {},
   "source": [
    "### ②DataFrame和Series间的操作\n",
    "\n",
    "<font color='yellow'>广播机制（broadcasting）</font>"
   ]
  },
  {
   "cell_type": "code",
   "execution_count": null,
   "metadata": {},
   "outputs": [],
   "source": [
    "import pandas as pd\n",
    "\n",
    "# 行匹配\n",
    "arr = np.arange(12.).reshape((3, 4))\n",
    "print('arr:\\n', arr, '\\n')\n",
    "print('arr - arr[0]:\\n', arr - arr[0], '\\n')\n",
    "\n",
    "# 列匹配\n",
    "frame = pd.DataFrame(np.arange(12.).reshape((4, 3)), \n",
    "                     columns=list('bde'),\n",
    "                     index=['Utah', 'Ohio', 'Texas', 'Oregon'])\n",
    "series = frame.iloc[0]\n",
    "print('series: \\n', series, '\\n')\n",
    "print('frame - series: \\n', frame-series, '\\n')\n",
    "\n",
    "# 重建索引——：两数据结构不同时具有某索引标签\n",
    "series2 = pd.Series(range(3), index=['b', 'e', 'f'])    # frame不具有'e'和'f'索引标签\n",
    "# 在列上匹配：\n",
    "series2 = frame['d']\n",
    "# 在行上广播：\n",
    "print('frame.sub(series2, axis=\\'index\\') -> \\n', frame.sub(series2, axis='index'))"
   ]
  },
  {
   "cell_type": "markdown",
   "metadata": {},
   "source": [
    "## 5.函数应用和映射"
   ]
  },
  {
   "cell_type": "code",
   "execution_count": null,
   "metadata": {},
   "outputs": [],
   "source": [
    "import pandas as pd\n",
    "\n",
    "# NumPy的通用函数（逐元素数组法）对pandas对象也有效\n",
    "frame = pd.DataFrame(np.random.randn(4, 3), \n",
    "                     columns=list('bde'),\n",
    "                     index=['Utah', 'Ohio', 'Texas', 'Oregon'])\n",
    "np.abs(frame)   # 将frame中的所有元素都取其绝对值\n",
    "\n",
    "# 将函数应用到一行或一列的一维数组上\n",
    "f = lambda x: x.max() - x.min()\n",
    "frame.apply(f)  # 计算frame的每一列中最大值减去最小值的差值\n",
    "frame.apply(f, axis='columns')  # 在每列调用后的基础上，在每行都调用一遍 \n",
    "\n",
    "# 根据frame中的每个浮点数计算一个格式化字符串\n",
    "formatting = lambda x:'%.2f' % x\n",
    "frame.applymap(formatting)"
   ]
  },
  {
   "cell_type": "markdown",
   "metadata": {},
   "source": [
    "## 6.排序和排名\n",
    "\n",
    "- `sort_index()` 返回一个新的、排序好的对象\n",
    "\n",
    "- `rank()` 通过将平均排名分配到每个组来打破平级的关系，<font color='red'>参数如下：</font>\n",
    "\n",
    "|方法|描述|\n",
    "|:---:|:---:|\n",
    "|average|默认：在小组中的平均排名|\n",
    "|min|对整个组使用最小排名|\n",
    "|max|对整个组使用最大排名|\n",
    "|first|按照值在数据中出现的次序分配排名|\n",
    "|dense|类似于\"method=min\"，但组间排名总是增加1，而不是一个组中的相等元素的数量|"
   ]
  },
  {
   "cell_type": "code",
   "execution_count": null,
   "metadata": {},
   "outputs": [],
   "source": [
    "import pandas as pd\n",
    "\n",
    "obj = pd.Series(range(4), index=['d', 'a', 'b', 'c'])\n",
    "frame = pd.DataFrame(np.random.randn(4, 3), \n",
    "                     columns=list('bde'),\n",
    "                     index=['Utah', 'Ohio', 'Texas', 'Oregon'])\n",
    "\n",
    "\"\"\" 按轴标签排序 \"\"\"\n",
    "print('按轴标签排序-> obj默认按升序排序：\\n', obj.sort_index())\n",
    "# 在各个轴上排序，数据默认升序排序\n",
    "print('\\n按轴标签排序-> frame在轴1按降序排序：\\n', frame.sort_index(axis=1, ascending=False))\n",
    "\n",
    "\"\"\" 按值排序 \"\"\"\n",
    "print('\\n按值排序-> 默认情况下NaN被排序至尾部：\\n', obj.sort_values())\n",
    "# 可以选择多列或一列作为排序键\n",
    "frame = pd.DataFrame({'b': [4, 7, -3, 2], 'a': [0, 1, 0, 1]})   # 按数值大小分配排名\n",
    "print('\\n按值排序-> 选择某一列作为排序键：\\n', frame.sort_values(by='b'))\n",
    "\n",
    "\n",
    "\"\"\" rank()方法输出排序后的名次 \"\"\"\n",
    "obj = pd.Series([7, -5, 7, 4, 2, 0, 4])\n",
    "print(\"\\n索引：名次\\n\", obj.rank())\n",
    "# 将值分配给组中最大排名\n",
    "obj.rank(ascending=False, method='max')\n",
    "# DataFrame列排名\n",
    "frame.rank(axis='columns')"
   ]
  },
  {
   "cell_type": "markdown",
   "metadata": {},
   "source": [
    "## 7.含有重复标签的轴索引\n",
    "\n",
    "- `is_unique()` 属性可以告诉你一个Series的标签是否唯一"
   ]
  },
  {
   "cell_type": "code",
   "execution_count": null,
   "metadata": {},
   "outputs": [],
   "source": [
    "import pandas as pd\n",
    "\n",
    "obj = pd.Series(range(5), index=['a', 'a', 'b', 'b', 'c'])\n",
    "print('obj的索引唯一：', obj.index.is_unique)\n",
    "print(obj['a'], '\\n')     # 无重复索引的返回一个标量值，有重复索引值的返回一个序列\n",
    "\n",
    "df = pd.DataFrame(np.random.randn(4, 3), index=['a', 'a', 'b', 'c'])\n",
    "print(df.loc['b'])"
   ]
  },
  {
   "cell_type": "markdown",
   "metadata": {},
   "source": [
    "# 三、描述性统计的概述与计算\n"
   ]
  },
  {
   "cell_type": "markdown",
   "metadata": {},
   "source": [
    "## 1.归约方法\n",
    "\n",
    "<font color='red'>可选参数如下：</font>\n",
    "\n",
    "|方法|描述|\n",
    "|:---:|:---:|\n",
    "|axis|归约轴，0为行向，1为列向|\n",
    "|skipna|排除缺失值，默认为True|\n",
    "|level|如果轴是多层索引的（MultiIndex），该参数可以缩减分组层级|\n"
   ]
  },
  {
   "cell_type": "code",
   "execution_count": 5,
   "metadata": {},
   "outputs": [
    {
     "name": "stdout",
     "output_type": "stream",
     "text": [
      "a    1.40\n",
      "b    2.60\n",
      "c    0.00\n",
      "d   -0.55\n",
      "dtype: float64 \n",
      "\n",
      "a      NaN\n",
      "b    1.300\n",
      "c      NaN\n",
      "d   -0.275\n",
      "dtype: float64\n"
     ]
    }
   ],
   "source": [
    "import pandas as pd\n",
    "\n",
    "\"\"\" 归约型方法 \"\"\"\n",
    "df = pd.DataFrame([[1.4, np.nan], [7.1, -4.5],\n",
    "                   [np.nan, np.nan], [0.75, -1.3]],\n",
    "                   index=['a', 'b', 'c', 'd'],\n",
    "                   columns=['one', 'two'])\n",
    "# 特此提醒：除非整列上都是NaN值，否则输出时NaN值是被自动排除的\n",
    "print(df.sum(axis=1), '\\n')       # 或 axis='columns'，将一行上各个列的值相加\n",
    "# 可以通过禁用 skipna 来实现不排除NaN值\n",
    "print(df.mean(axis='columns', skipna=False))\n"
   ]
  },
  {
   "cell_type": "markdown",
   "metadata": {},
   "source": [
    "## 2.汇总统计\n",
    "\n",
    "|方法|描述|\n",
    "|:---:|:---:|\n",
    "|count|非Na值的个数|\n",
    "|describe|计算Series或DataFrame各列的汇总统计集合|\n",
    "|min, max|计算最小值、最大值|\n",
    "|argmin, argmax|分别计算最小值、最大值所在的索引位置（整数）|\n",
    "|idmin, idmax|分别计算最小值或最大值的索引标签|\n",
    "|quantile|计算样本的从0到1间的分位数|\n",
    "|sum|加和|\n",
    "|mean|均值|\n",
    "|median|中位数（50%分位数）|\n",
    "|mad|平均值的平均绝对偏差|\n",
    "|prod|所有值的积|\n",
    "|var|值的样本方差|\n",
    "|std|值的样本标准差|\n",
    "|skew|样本偏度（第三时刻）值|\n",
    "|kurt|样本峰度（第四时刻）值|\n",
    "|cumsum|累计值|\n",
    "|cummin, cummax|累计值得最小值或最大值|\n",
    "|cumprod|值的累计值|\n",
    "|diff|计算第一个算术差值（对时间序列有用）|\n",
    "|pct_change|计算百分比|"
   ]
  },
  {
   "cell_type": "code",
   "execution_count": 6,
   "metadata": {},
   "outputs": [
    {
     "name": "stdout",
     "output_type": "stream",
     "text": [
      "    one  two\n",
      "a  1.40  NaN\n",
      "b  8.50 -4.5\n",
      "c   NaN  NaN\n",
      "d  9.25 -5.8\n"
     ]
    }
   ],
   "source": [
    "import pandas as pd\n",
    "import numpy as np\n",
    "\n",
    "df = pd.DataFrame([[1.4, np.nan], [7.1, -4.5],\n",
    "                   [np.nan, np.nan], [0.75, -1.3]],\n",
    "                   index=['a', 'b', 'c', 'd'],\n",
    "                   columns=['one', 'two'])\n",
    "print(df.cumsum())"
   ]
  },
  {
   "cell_type": "markdown",
   "metadata": {},
   "source": [
    "## 3.相关性和协方差"
   ]
  },
  {
   "cell_type": "code",
   "execution_count": null,
   "metadata": {},
   "outputs": [],
   "source": [
    "import pandas as pd\n",
    "# import pandas_datareader as web     # 数据库源自Yahoo! Finance\n",
    "\"\"\" November 1st, 2021 Yahoo\\xe2\\x80\\x99s suite of services will no longer be accessible from mainland China.\n",
    "这段代码摘自《Python for Data Analysis(Second Edition)》 雅虎数据库在中国大陆不能用了，故这一部分先空着，待到有实例代码了再完善\n",
    "\"\"\""
   ]
  },
  {
   "cell_type": "markdown",
   "metadata": {},
   "source": [
    "## 4.唯一值、计数和成员属性\n",
    "\n",
    "|方法|描述|\n",
    "|:---:|:---:|\n",
    "|isin|计算表征Series中每个值是否包含于传入序列的布尔值数组中|\n",
    "|match|计算数组中每个值的整数索引，形成一个唯一值数组。有助于数据对齐和join类型的操作|\n",
    "|unique|计算Series值中的唯一值数组，按照观察顺序返回|\n",
    "|value_counts|返回一个Series，索引值是唯一值序列，值是计数个数，按照个数降序排序|"
   ]
  },
  {
   "cell_type": "code",
   "execution_count": null,
   "metadata": {},
   "outputs": [],
   "source": [
    "import pandas as pd\n",
    "\n",
    "obj = pd.Series(['c', 'a', 'd', 'a', 'a', 'b', 'b', 'c', 'c' ])\n",
    "uniques = obj.unique()      # 返回唯一值索引标签\n",
    "print(\"唯一值索引标签：\", uniques, '\\n')\n",
    "print(\"唯一值索引标签个数：\\n\", obj.value_counts(), '\\n')\n",
    "\n",
    "# 过滤为值子集\n",
    "mask = obj.isin(['b', 'c'])\n",
    "print(mask, '\\n')\n",
    "print(\"过滤后的值子集为：\\n\", obj[mask], '\\n')\n",
    "\n",
    "# 将非唯一值数组转换成另一个唯一值数组\n",
    "print(\"将非唯一值数组转换成另一个唯一值数组：\\n\", pd.Index(uniques).get_indexer(obj))"
   ]
  },
  {
   "cell_type": "markdown",
   "metadata": {},
   "source": [
    "# 四、数据的输入和输出\n",
    "\n",
    "数据的输入输出通常有这几种类型：<font color='yellow'>读取文本文件及硬盘上其他更高效的格式文件、从数据库载入数据、与网络资源进行交互（比如 Web API）</font>\n",
    "\n",
    "1. 处理***CSV、JSON文件***\n",
    "\n",
    "    - 详见【/Users/mac/Desktop/DS_Python/BasicStuff_Py/数据科学库/pandas初阶知识/CSV_JSON文件处理/Pandas_CSV_JSON.ipynb】\n",
    "\n",
    "2. 《Python for Data Analysis(Second Edition)》\n",
    "\n",
    "    - 详见【/Users/mac/Desktop/DS_Python/BasicStuff_Py/数据科学库/pandas初阶知识】"
   ]
  },
  {
   "cell_type": "markdown",
   "metadata": {},
   "source": [
    "# 五、数据清洗\n",
    "\n",
    "<font color='green'>其他·补充详见同级目录下的< 数据清洗与准备.ipynb ></font> -> 参考资料：《Python for Data Analysis(Second Edition)》"
   ]
  },
  {
   "attachments": {},
   "cell_type": "markdown",
   "metadata": {},
   "source": [
    "## 1.清洗空值 \n",
    "\n",
    "如果我们要删除包含空字段的行，可以使用 dropna() 方法，并通过 isnull() 判断各个单元格是否为空。\n",
    "\n",
    "`DataFrame.dropna(axis=0, how='any', thresh=None, subset=None, inplace=False)`\n",
    "\n",
    "<font color='red'>参数说明：</font>\n",
    "\n",
    "> - axis：默认为 0，表示逢空值剔除整行，如果设置参数 axis＝1 表示逢空值去掉整列\n",
    ">\n",
    "> - how：默认为 ‘any’ 如果一行（或一列）里任何一个数据有出现 NA 就去掉整行，如果设置 how=‘all’ 一行（或列）都是 NA 才去掉这整行。\n",
    ">\n",
    "> - thresh：设置需要多少非空值的数据才可以保留下来的\n",
    ">\n",
    "> - subset：设置想要检查的列。如果是多个列，可以使用列名的 list 作为参数\n",
    ">\n",
    "> - inplace：如果设置 True，将计算得到的值直接覆盖之前的值并返回 None，修改的是源数据。\n",
    "\n"
   ]
  },
  {
   "cell_type": "code",
   "execution_count": null,
   "metadata": {},
   "outputs": [],
   "source": [
    "import pandas as pd\n",
    "\n",
    "#  Pandas 把 n/a 和 NA 当作空数据，na 不是空数据，不符合我们要求，我们可以指定空数据类型：\n",
    "missing_values = [\"n/a\", \"na\", \"--\"]\n",
    "df = pd.read_csv('property-data.csv', na_values = missing_values)\n",
    "\n",
    "print (df['NUM_BEDROOMS'])\n",
    "print (df['NUM_BEDROOMS'].isnull())\n",
    "\n"
   ]
  },
  {
   "attachments": {},
   "cell_type": "markdown",
   "metadata": {},
   "source": [
    "## 2.删除指定列有空值的行"
   ]
  },
  {
   "cell_type": "code",
   "execution_count": null,
   "metadata": {},
   "outputs": [],
   "source": [
    "import pandas as pd\n",
    "\n",
    "df = pd.read_csv('property-data.csv')\n",
    "df.dropna(subset=['ST_NUM'], inplace = True)\n",
    "print(df.to_string())\n"
   ]
  },
  {
   "attachments": {},
   "cell_type": "markdown",
   "metadata": {},
   "source": [
    "## 3.替换空字段\n",
    "\n",
    "-  `fillna()` 方法来替换一些空字段。Pandas使用 mean()、median() 和 mode() 方法计算列的均值（所有值加起来的平均值）、中位数值（排序后排在中间的数）和众数（出现频率最高的数）"
   ]
  },
  {
   "cell_type": "code",
   "execution_count": null,
   "metadata": {},
   "outputs": [],
   "source": [
    "import pandas as pd\n",
    "\n",
    "df = pd.read_csv('property-data.csv')\n",
    "\n",
    "x = df[\"ST_NUM\"].mean()\n",
    "df['PID'].fillna(12345, inplace = True)\n",
    "df.fillna(12345, inplace = True)\n",
    "print(df.to_string())\n",
    "\n",
    "print(\"{:-^80}\".format('分割线'))\n",
    "\n",
    "df[\"ST_NUM\"].fillna(x, inplace = True)\n",
    "print(df.to_string())\n"
   ]
  },
  {
   "attachments": {},
   "cell_type": "markdown",
   "metadata": {},
   "source": [
    "## 4.清洗格式错误的数据"
   ]
  },
  {
   "attachments": {},
   "cell_type": "markdown",
   "metadata": {},
   "source": [
    "### ①格式化日期"
   ]
  },
  {
   "cell_type": "code",
   "execution_count": null,
   "metadata": {},
   "outputs": [],
   "source": [
    "import pandas as pd\n",
    "\n",
    "# 第三个日期格式错误\n",
    "data = {\n",
    "  \"Date\": ['2020/12/01', '2020/12/02' , '20201226'],\n",
    "  \"duration\": [50, 40, 45]\n",
    "}\n",
    "\n",
    "df = pd.DataFrame(data, index = [\"day1\", \"day2\", \"day3\"])\n",
    "df['Date'] = pd.to_datetime(df['Date'])\n",
    "print(df.to_string())\n"
   ]
  },
  {
   "attachments": {},
   "cell_type": "markdown",
   "metadata": {},
   "source": [
    "### ②替换或移除错误数据"
   ]
  },
  {
   "cell_type": "code",
   "execution_count": null,
   "metadata": {},
   "outputs": [],
   "source": [
    "import pandas as pd\n",
    "\n",
    "person = {\n",
    "  \"name\": ['Google', 'Baidu' , 'Wiki'],\n",
    "  \"age\": [50, 40, 12345]    # 12345 年龄数据是错误的\n",
    "}\n",
    "\n",
    "df = pd.DataFrame(person)\n",
    "df.loc[2, 'age'] = 30 # 修改数据\n",
    "print(df.to_string())\n"
   ]
  },
  {
   "attachments": {},
   "cell_type": "markdown",
   "metadata": {},
   "source": [
    "### ③重复数据\n",
    "\n",
    "- 要清洗重复数据，可以使用 duplicated() 和 drop_duplicates() 方法\n",
    "- 对应的数据是重复的，duplicated() 会返回 True，否则返回 False\n",
    "- 删除重复数据，可以直接使用drop_duplicates() 方法"
   ]
  },
  {
   "cell_type": "code",
   "execution_count": null,
   "metadata": {},
   "outputs": [],
   "source": [
    "import pandas as pd\n",
    "\n",
    "person = {\n",
    "  \"name\": ['Google', 'Baidu' , 'Wiki' , 'Wiki'],\n",
    "  \"age\": [50, 40, 40, 23]  \n",
    "}\n",
    "df = pd.DataFrame(person)\n",
    "print(df.duplicated())\n",
    "df.drop_duplicates(inplace = True)\n",
    "print(df)\n"
   ]
  },
  {
   "cell_type": "markdown",
   "metadata": {},
   "source": [
    "# 六、数据规整：连接、联合、与重塑（Data Wrangling: Join, Combine, Rebuilding）\n"
   ]
  },
  {
   "cell_type": "code",
   "execution_count": null,
   "metadata": {},
   "outputs": [],
   "source": [
    "import numpy as np\n",
    "import pandas as pd\n",
    "\n",
    "pd.options.display.max_rows = 20\n",
    "np.random.seed(12345)\n",
    "\n",
    "import matplotlib.pyplot as plt\n",
    "plt.rc('figure', figsize=(10, 6))\n",
    "np.set_printoptions(precision=4, suppress=True)"
   ]
  },
  {
   "cell_type": "markdown",
   "metadata": {},
   "source": [
    "## 1.分层索引（Hierarchical Indexing）"
   ]
  },
  {
   "cell_type": "code",
   "execution_count": null,
   "metadata": {},
   "outputs": [],
   "source": [
    "data = pd.Series(np.random.randn(9),\n",
    "                 index=[['a', 'a', 'a', 'b', 'b', 'c', 'c', 'd', 'd'],\n",
    "                        [1, 2, 3, 1, 3, 1, 2, 2, 3]])\n",
    "print(data, '\\n')\n",
    "print(data.index, '\\n')\n",
    "\n",
    "# 分层索引/部分索引\n",
    "data['b':'c']               # 标签b到c\n",
    "data.loc[['b', 'd']]        # 标签b和d\n",
    "# 重塑数据\n",
    "print(data.unstack(), '\\n') # 反操作为data.unstack().stack()"
   ]
  },
  {
   "cell_type": "code",
   "execution_count": null,
   "metadata": {},
   "outputs": [],
   "source": [
    "frame = pd.DataFrame(np.arange(12).reshape((4, 3)),\n",
    "                     index=[['a', 'a', 'b', 'b'], [1, 2, 1, 2]],\n",
    "                     columns=[['Ohio', 'Ohio', 'Colorado'],\n",
    "                              ['Green', 'Red', 'Green']])\n",
    "print(frame, '\\n')\n",
    "\n",
    "# 给层级命名：\n",
    "frame.index.names = ['key1', 'key2']\n",
    "frame.columns.names = ['state', 'color']\n",
    "print(frame, '\\n')  \n",
    "\n",
    "# 分层索引\n",
    "frame['Ohio']"
   ]
  },
  {
   "cell_type": "markdown",
   "metadata": {},
   "source": [
    "### ①重排序和层级排序（Reordering and Sorting Levels）\n",
    "\n",
    "`swaplevel()`\n",
    "\n",
    "`sort_index()`"
   ]
  },
  {
   "cell_type": "code",
   "execution_count": null,
   "metadata": {},
   "outputs": [],
   "source": [
    "# 接受两个层级序号或名称，返回一个进行层级互换的新对象（对应层级下的数据不变）\n",
    "frame.swaplevel('key1', 'key2')"
   ]
  },
  {
   "cell_type": "code",
   "execution_count": null,
   "metadata": {},
   "outputs": [],
   "source": [
    "# 在单一层级上对数据进行排序\n",
    "print(frame.sort_index(level=1), '\\n')\n",
    "frame.swaplevel(0, 1).sort_index(level=0)"
   ]
  },
  {
   "cell_type": "markdown",
   "metadata": {},
   "source": [
    "### ②按层级进行汇总统计（Summary Statistics by Level）\n",
    "\n",
    "`frame.sum()`"
   ]
  },
  {
   "cell_type": "code",
   "execution_count": null,
   "metadata": {},
   "outputs": [],
   "source": [
    "# 2023年，官方不建议这样写（2017年的写法），因为未来可能会淘汰这样的写法：frame.sum(level='key2')\n",
    "print(frame.groupby(level='key2').sum(), '\\n')\n",
    "frame.groupby(level='color', axis=1).sum() "
   ]
  },
  {
   "cell_type": "markdown",
   "metadata": {},
   "source": [
    "### ③使用DataFrame的列进行索引（Indexing with a DataFrame's columns）"
   ]
  },
  {
   "cell_type": "code",
   "execution_count": null,
   "metadata": {},
   "outputs": [],
   "source": [
    "frame = pd.DataFrame({'a': range(7), 'b': range(7, 0, -1),\n",
    "                      'c': ['one', 'one', 'one', 'two', 'two',\n",
    "                            'two', 'two'],\n",
    "                      'd': [0, 1, 2, 0, 1, 2, 3]})\n",
    "print(frame, '\\n')\n",
    "\n",
    "# 使用一个或多个列作为索引，默认情况下这些列会从DataFrame中移除(drop=False)，也可以设置其不移除\n",
    "frame2 = frame.set_index(['c', 'd'], drop=True)\n",
    "print(frame2, '\\n')\n",
    "# 反操作\n",
    "frame2.reset_index()"
   ]
  },
  {
   "cell_type": "markdown",
   "metadata": {},
   "source": [
    "## 2.联合与合并数据集（Combining and Merging Datasets）\n",
    "\n",
    "- `pandas.merge` 根据一个或多个键将行进行连接\n",
    "- `pandas.concat` 使对象在轴向上进行粘合或“堆叠”\n",
    "- `combine_first` 实例方法允许将重叠的数据拼接在一起，以用一个对象中的值填充另一个对象中的缺失值"
   ]
  },
  {
   "cell_type": "markdown",
   "metadata": {},
   "source": [
    "### ①数据库风格的DataFrame连接（Database-Style DataFrame Joins）\n",
    "\n",
    "`merge()` 合并或连接操作通过一个或多个键连接行来联合数据集。"
   ]
  },
  {
   "cell_type": "code",
   "execution_count": null,
   "metadata": {},
   "outputs": [],
   "source": [
    "df1 = pd.DataFrame({'key': ['b', 'b', 'a', 'c', 'a', 'a', 'b'],\n",
    "                    'data1': range(7)})\n",
    "df2 = pd.DataFrame({'key': ['a', 'b', 'd'],\n",
    "                    'data2': range(3)})\n",
    "\n",
    "print('df1如下：\\n', df1, '\\n')\n",
    "print('df2如下：\\n', df2, '\\n')"
   ]
  },
  {
   "cell_type": "markdown",
   "metadata": {},
   "source": [
    "- <font color='red'>`pd.merge()` 参数如下：</font>\n",
    "\n",
    "|参数|描述|\n",
    "|:--:|:--:|\n",
    "|left|合并时操作中左边的DataFrame|\n",
    "|right|合并时操作中右边的DataFrame|\n",
    "|how|`inner`、`outer`、`left`、`right`之一；默认是`inner`|\n",
    "|on|需要连接的列名，必须是在两边的DataFrame对象都有的列名，并以left和right中的列名的交集作为连接键|\n",
    "|left_on|left DataFrame中用作连接键的列|\n",
    "|right_on|right DataFrame中用作连接键的列|\n",
    "|sort|通过连接键按字母顺序对合并的数据进行排序；在默认情况下为True（在大数据集上某些情况下禁用该功能可以获得更好的性能）|\n",
    "|suffixes|在重叠的情况下，添加到列名后的字符串元组；默认是`('_x', '_y')`（例如如果待合并的DataFrame中都有'data'列，那么结果中会出现 `data_x`，`data_y`）|\n",
    "|copy|如果为False，则在某些特殊情况下避免将数据复制到结果数据结构中；默认情况下总是复制|\n",
    "|indicator|添加一个特殊的列 `_merge`，指示每一行的来源；值将根据每行中连接数据的来源分别为`left_only`，`right_only`或`both`|"
   ]
  },
  {
   "cell_type": "code",
   "execution_count": null,
   "metadata": {},
   "outputs": [],
   "source": [
    "# 如果没有指定在哪一列上进行连接，merge会自动将重叠列名作为连接的键\n",
    "print(pd.merge(df1, df2), '\\n')\n",
    "print(pd.merge(df1, df2, on='key'), '\\n')       # 指定连接的键\n",
    "# merge默认情况下是内连接，结果的键是两张表的交集，而要将两张表中仅一方有的键都放到结果中，需要外连接（即并集）\n",
    "print(pd.merge(df1, df2, how='outer'), '\\n')\n",
    "\n",
    "# 为两个对象指定连接后的列名\n",
    "df3 = pd.DataFrame({'lkey': ['b', 'b', 'a', 'c', 'a', 'b'],\n",
    "                    'data1': range(6)})\n",
    "df4 = pd.DataFrame({'rkey': ['a', 'b', 'a', 'b', 'd'],\n",
    "                    'data2': range(5)})\n",
    "print(pd.merge(df3, df4, left_on='lkey', right_on='rkey'), '\\n')"
   ]
  },
  {
   "cell_type": "markdown",
   "metadata": {},
   "source": [
    "- <font color='red'>`pd.merge(how=paraments)` 中how参数列表：</font>\n",
    "\n",
    "|选项|行为|\n",
    "|:--:|:--:|\n",
    "|`inner`|只对两张表都有的键的交集进行联合|\n",
    "|`left`|对所有左表的键进行联合|\n",
    "|`right`|对所有右表的键进行联合|\n",
    "|`outer`|对两张表都有的键的并集进行联合|"
   ]
  },
  {
   "cell_type": "code",
   "execution_count": null,
   "metadata": {},
   "outputs": [],
   "source": [
    "df3 = pd.DataFrame({'key': ['b', 'b', 'a', 'c', 'a', 'b'],\n",
    "                    'data1': range(6)})\n",
    "df4 = pd.DataFrame({'key': ['a', 'b', 'a', 'b', 'd'],\n",
    "                    'data2': range(5)})\n",
    "\n",
    "# 对所有左表的键进行联合\n",
    "print(pd.merge(df3, df4, on='key', how='left'), '\\n')\n",
    "\n",
    "# 多对多连接是行的笛卡尔积，左表有3个b，右表有2个b，根据笛卡尔积连接后共有6个b\n",
    "print(pd.merge(df1, df2, how='inner'), '\\n')"
   ]
  },
  {
   "cell_type": "code",
   "execution_count": null,
   "metadata": {},
   "outputs": [],
   "source": [
    "left = pd.DataFrame({'key1': ['foo', 'foo', 'bar'],\n",
    "                     'key2': ['one', 'two', 'one'],\n",
    "                     'lval': [1, 2, 3]})\n",
    "right = pd.DataFrame({'key1': ['foo', 'foo', 'bar', 'bar'],\n",
    "                      'key2': ['one', 'one', 'one', 'two'],\n",
    "                      'rval': [4, 5, 6, 7]})\n",
    "\n",
    "# 使用多个键合并时，传入一个列名的列表\n",
    "print(pd.merge(left, right, on=['key1', 'key2'], how='outer'), '\\n')\n",
    "\n",
    "# 处理重叠的列名\n",
    "print(pd.merge(left, right, on='key1'), '\\n')   # 区别左右表默认添加 _x、_y\n",
    "pd.merge(left, right, on='key1', suffixes=('_left', '_right'))"
   ]
  },
  {
   "cell_type": "markdown",
   "metadata": {},
   "source": [
    "### ②根据索引合并（Merging on Index）\n",
    "\n",
    "传递参数 `left_index=True` 或 `right_index=True`"
   ]
  },
  {
   "cell_type": "code",
   "execution_count": null,
   "metadata": {},
   "outputs": [],
   "source": [
    "left1 = pd.DataFrame({'key': ['a', 'b', 'a', 'a', 'b', 'c'],\n",
    "                      'value': range(6)})\n",
    "right1 = pd.DataFrame({'group_val': [3.5, 7]}, index=['a', 'b'])\n",
    "print('left1：\\n', left1, '\\n')\n",
    "print('right1：\\n', right1, '\\n')\n",
    "# 默认的合并方法是连接键相交，也可以使用 outer 来取其并集\n",
    "pd.merge(left1, right1, left_on='key', right_index=True)"
   ]
  },
  {
   "cell_type": "code",
   "execution_count": null,
   "metadata": {},
   "outputs": [],
   "source": [
    "lefth = pd.DataFrame({'key1': ['Ohio', 'Ohio', 'Ohio',\n",
    "                               'Nevada', 'Nevada'],\n",
    "                      'key2': [2000, 2001, 2002, 2001, 2002],\n",
    "                      'data': np.arange(5.)})\n",
    "righth = pd.DataFrame(np.arange(12).reshape((6, 2)),\n",
    "                      index=[['Nevada', 'Nevada', 'Ohio', 'Ohio',\n",
    "                              'Ohio', 'Ohio'],\n",
    "                             [2001, 2000, 2000, 2000, 2001, 2002]],\n",
    "                      columns=['event1', 'event2'])\n",
    "print(lefth, '\\n')\n",
    "print(righth, '\\n')\n",
    "\n",
    "# 此时必须以列表的形式指明合并所需的多列\n",
    "print(pd.merge(lefth, righth, left_on=['key1', 'key2'], right_index=True), '\\n')\n",
    "merge_lists = pd.merge(lefth, righth, left_on=['key1', 'key2'],\n",
    "                        right_index=True, how='outer')         # 使用 outer 来取重叠列的并集\n",
    "print(merge_lists, '\\n')"
   ]
  },
  {
   "cell_type": "code",
   "execution_count": null,
   "metadata": {},
   "outputs": [],
   "source": [
    "left2 = pd.DataFrame([[1., 2.], [3., 4.], [5., 6.]],\n",
    "                     index=['a', 'c', 'e'],\n",
    "                     columns=['Ohio', 'Nevada'])\n",
    "right2 = pd.DataFrame([[7., 8.], [9., 10.], [11., 12.], [13, 14]],\n",
    "                      index=['b', 'c', 'd', 'e'],\n",
    "                      columns=['Missouri', 'Alabama'])\n",
    "left2\n",
    "right2\n",
    "pd.merge(left2, right2, how='outer', left_index=True, right_index=True)"
   ]
  },
  {
   "cell_type": "code",
   "execution_count": null,
   "metadata": {},
   "outputs": [],
   "source": [
    "# 用以合并多个索引相同或相似但没有重叠列的DataFrame对象\n",
    "left2.join(right2, how='outer')"
   ]
  },
  {
   "cell_type": "code",
   "execution_count": null,
   "metadata": {},
   "outputs": [],
   "source": [
    "# 对于简单索引-索引合并，可以向join方法传入一个DataFrame列表，这个方法可以替代 concat 函数的方法\n",
    "another = pd.DataFrame([[7., 8.], [9., 10.], [11., 12.], [16., 17.]],\n",
    "                       index=['a', 'c', 'e', 'f'],\n",
    "                       columns=['New York', 'Oregon'])\n",
    "another\n",
    "left2.join([right2, another])\n",
    "left2.join([right2, another], how='outer')"
   ]
  },
  {
   "cell_type": "markdown",
   "metadata": {},
   "source": [
    "### ③连轴向连接（Concatenating Along an Axis）\n",
    "\n",
    "- `concatence()` <font color='red'>参数如下：</font>\n",
    "\n",
    "|参数|描述|\n",
    "|:--:|:--:|\n",
    "|objs|需要连接的pandas对象列表或字典，这是必选参数|\n",
    "|axis|连接的轴向，默认是0（沿着行方向）|\n",
    "|join|可以是`'inner'`或`'outer'`（默认是`'outer'`），用于指定连接的方式|\n",
    "|join_axes|用于指定其他n-1轴的特定索引，可以替代内/外连接的逻辑|\n",
    "|keys|与要连接的对象关联的值，沿着连接轴形成分层索引；可以是任意值的列表或数组，或元组的数组，或数组的列表（如果向levels参数传入多层数组）|\n",
    "|levels|在键值传递时，该参数用于指定多层索引的层级|\n",
    "|names|如果传入了keys和/或levels参数，该参数用于多层索引的层级名称|\n",
    "|verify_integrity|检查连接对象中的新轴是否重复，如果是，则引发异常；默认（False）允许重复|\n",
    "|ignore_index|不沿着连接轴保留索引，而产生一段新的索引（长度为两表长度之和）|"
   ]
  },
  {
   "cell_type": "code",
   "execution_count": null,
   "metadata": {},
   "outputs": [],
   "source": [
    "arr = np.arange(12).reshape((3, 4))\n",
    "arr\n",
    "np.concatenate([arr, arr], axis=1)"
   ]
  },
  {
   "cell_type": "code",
   "execution_count": null,
   "metadata": {},
   "outputs": [],
   "source": [
    "s1 = pd.Series([0, 1], index=['a', 'b'])\n",
    "s2 = pd.Series([2, 3, 4], index=['c', 'd', 'e'])\n",
    "s3 = pd.Series([5, 6], index=['f', 'g'])"
   ]
  },
  {
   "cell_type": "code",
   "execution_count": null,
   "metadata": {},
   "outputs": [],
   "source": [
    "# concatence默认沿轴0（即行）连接，采用 outer 外连接（）即取键的并集\n",
    "print(pd.concat([s1, s2, s3], axis=1), '\\n')\n",
    "\n",
    "s4 = pd.concat([s1, s3])\n",
    "print(pd.concat([s1, s4], axis=1, join='inner'), '\\n')   # inner连接默认以所有左表的键为主\n",
    "\n",
    "# 创建多层索引\n",
    "result = pd.concat([s1, s1, s3], keys=['one', 'two', 'three'])\n",
    "result\n",
    "result.unstack()        # 层级索引"
   ]
  },
  {
   "cell_type": "code",
   "execution_count": null,
   "metadata": {},
   "outputs": [],
   "source": [
    "df1 = pd.DataFrame(np.arange(6).reshape(3, 2), index=['a', 'b', 'c'],\n",
    "                   columns=['one', 'two'])\n",
    "df2 = pd.DataFrame(5 + np.arange(4).reshape(2, 2), index=['a', 'c'],\n",
    "                   columns=['three', 'four'])\n",
    "df1\n",
    "df2\n",
    "print(pd.concat([df1, df2], axis=1, keys=['level1', 'level2']), '\\n')\n",
    "\n",
    "# 如果传递的对象是字典而不是列表，则字典的键会用于keys选项\n",
    "pd.concat({'level1': df1, 'level2': df2}, axis=1)"
   ]
  },
  {
   "cell_type": "code",
   "execution_count": null,
   "metadata": {},
   "outputs": [],
   "source": [
    "pd.concat({'level1': df1, 'level2': df2}, axis=1)"
   ]
  },
  {
   "cell_type": "code",
   "execution_count": null,
   "metadata": {},
   "outputs": [],
   "source": [
    "# 参数names，用于多层索引的层级名称\n",
    "names_concatLy = pd.concat([df1, df2], axis=1, keys=['level1', 'level2'],\n",
    "                            names=['upper', 'lower'])\n",
    "print(names_concatLy, '\\n')\n",
    "\n",
    "# 参数ignore_index，不沿着连接轴保留索引，而产生一段新的索引（长度为两表长度之和）\n",
    "df1 = pd.DataFrame(np.random.randn(3, 4), columns=['a', 'b', 'c', 'd'])\n",
    "df2 = pd.DataFrame(np.random.randn(2, 3), columns=['b', 'd', 'a'])\n",
    "pd.concat([df1, df2], ignore_index=True)"
   ]
  },
  {
   "cell_type": "markdown",
   "metadata": {},
   "source": [
    "### ④联合重叠数据（Combining Data with Overlap）"
   ]
  },
  {
   "cell_type": "code",
   "execution_count": null,
   "metadata": {},
   "outputs": [],
   "source": [
    "a = pd.Series([np.nan, 2.5, np.nan, 3.5, 4.5, np.nan],\n",
    "              index=['f', 'e', 'd', 'c', 'b', 'a'])\n",
    "b = pd.Series(np.arange(len(a), dtype=np.float64),\n",
    "              index=['f', 'e', 'd', 'c', 'b', 'a'])\n",
    "b[-1] = np.nan\n",
    "print(a, '\\n')\n",
    "print(b, '\\n')\n",
    "print(np.where(pd.isnull(a), b, a), '\\n')\n",
    "\n",
    "# 传入对象以“填补”调用对象的缺失值\n",
    "b.combine_first(a)"
   ]
  },
  {
   "cell_type": "code",
   "execution_count": null,
   "metadata": {},
   "outputs": [],
   "source": [
    "df1 = pd.DataFrame({'a': [1., np.nan, 5., np.nan],\n",
    "                    'b': [np.nan, 2., np.nan, 6.],\n",
    "                    'c': range(2, 18, 4)})\n",
    "df2 = pd.DataFrame({'a': [5., 4., np.nan, 3., 7.],\n",
    "                    'b': [np.nan, 3., 4., 6., 8.]})\n",
    "print(df1, '\\n')\n",
    "print(df2, '\\n')\n",
    "\n",
    "# 传入对象以“填补”调用对象的缺失值\n",
    "df1.combine_first(df2)"
   ]
  },
  {
   "cell_type": "markdown",
   "metadata": {},
   "source": [
    "## 3.重塑和透视（Reshaping and Pivoting）"
   ]
  },
  {
   "cell_type": "markdown",
   "metadata": {},
   "source": [
    "### ①使用多层索引进行重塑（Reshaping with Hierarchical Indexing）\n",
    "\n",
    "- `stack`（堆叠）：会“旋转”或将列中的数据透视到行\n",
    "\n",
    "- `unstack`（拆堆）：将行中的数据透视到列"
   ]
  },
  {
   "cell_type": "code",
   "execution_count": null,
   "metadata": {},
   "outputs": [],
   "source": [
    "data = pd.DataFrame(np.arange(6).reshape((2, 3)),\n",
    "                    index=pd.Index(['Ohio', 'Colorado'], name='state'),\n",
    "                    columns=pd.Index(['one', 'two', 'three'],\n",
    "                    name='number'))\n",
    "data"
   ]
  },
  {
   "cell_type": "code",
   "execution_count": null,
   "metadata": {},
   "outputs": [],
   "source": [
    "# 透视到列\n",
    "result = data.stack()\n",
    "print(result, '\\n')\n",
    "\n",
    "# 透视到行\n",
    "result.unstack('state') # 或：result.unstack(0)"
   ]
  },
  {
   "cell_type": "code",
   "execution_count": null,
   "metadata": {},
   "outputs": [],
   "source": [
    "s1 = pd.Series([0, 1, 2, 3], index=['a', 'b', 'c', 'd'])\n",
    "s2 = pd.Series([4, 5, 6], index=['c', 'd', 'e'])\n",
    "data2 = pd.concat([s1, s2], keys=['one', 'two'])\n",
    "data2\n",
    "\n",
    "print(data2.unstack(), '\\n')\n",
    "# 默认情况下，堆叠会过滤出缺失值，因此堆叠拆堆的操作是可逆的\n",
    "print(data2.unstack().stack(), '\\n')\n",
    "# 取消过滤\n",
    "data2.unstack().stack(dropna=False)"
   ]
  },
  {
   "cell_type": "code",
   "execution_count": null,
   "metadata": {},
   "outputs": [],
   "source": [
    "df = pd.DataFrame({'left': result, 'right': result + 5},\n",
    "                  columns=pd.Index(['left', 'right'], name='side'))\n",
    "df\n",
    "\n",
    "# 当在DataFrame中拆堆时，被拆堆的层级会变为结果中最低的层级\n",
    "print(df.unstack('state'), '\\n')\n",
    "df.unstack('state').stack('side')"
   ]
  },
  {
   "cell_type": "markdown",
   "metadata": {},
   "source": [
    "### ②将“长”透视为“宽”（Pivoting “Long” to “Wide” Format）\n",
    "\n",
    "在数据库和CSV中存储多时间序列的方式就是所谓的长格式或堆叠格式。\n",
    "\n",
    "- `pivot()` 等价于 先用 `set_index` 创建分层索引，然后调用 `unstack`"
   ]
  },
  {
   "cell_type": "code",
   "execution_count": null,
   "metadata": {},
   "outputs": [],
   "source": [
    "data = pd.read_csv('examples/macrodata.csv')\n",
    "print(data.head(), '\\n')\n",
    " \n",
    "periods = pd.PeriodIndex(year=data.year, quarter=data.quarter,\n",
    "                         name='date')\n",
    "columns = pd.Index(['realgdp', 'infl', 'unemp'], name='item')\n",
    "data = data.reindex(columns=columns)\n",
    "data.index = periods.to_timestamp('D', 'end')\n",
    "ldata = data.stack().reset_index().rename(columns={0: 'value'})\n",
    "ldata"
   ]
  },
  {
   "cell_type": "code",
   "execution_count": null,
   "metadata": {},
   "outputs": [],
   "source": [
    "pivoted = ldata.pivot('date', 'item')\n",
    "pivoted[:5]\n",
    "pivoted['value'][:5]\n",
    "\n",
    "# pivot等价于先用 set_index 创建分层索引，然后调用unstack\n",
    "unstacked = ldata.set_index(['date', 'item']).unstack('item')\n",
    "unstacked[:7]"
   ]
  },
  {
   "cell_type": "markdown",
   "metadata": {},
   "source": [
    "### ③将“宽”透视为“长”\n",
    "\n",
    "- `pivot()`的反操作是 `pd.melt()`"
   ]
  },
  {
   "cell_type": "code",
   "execution_count": null,
   "metadata": {},
   "outputs": [],
   "source": [
    "df = pd.DataFrame({'key': ['foo', 'bar', 'baz'],\n",
    "                   'A': [1, 2, 3],\n",
    "                   'B': [4, 5, 6],\n",
    "                   'C': [7, 8, 9]})\n",
    "df"
   ]
  },
  {
   "cell_type": "code",
   "execution_count": null,
   "metadata": {},
   "outputs": [],
   "source": [
    "melted = pd.melt(df, ['key'])\n",
    "melted"
   ]
  },
  {
   "cell_type": "code",
   "execution_count": null,
   "metadata": {},
   "outputs": [],
   "source": [
    "reshaped = melted.pivot('key', 'variable', 'value')\n",
    "print(reshaped, '\\n')\n",
    "# 将数据移回一列对齐\n",
    "reshaped.reset_index()"
   ]
  },
  {
   "cell_type": "code",
   "execution_count": null,
   "metadata": {},
   "outputs": [],
   "source": [
    "# 选取指定列的子集作为值列\n",
    "pd.melt(df, id_vars=['key'], value_vars=['A', 'B'])\n",
    "# 可以无任何分组指标\n",
    "pd.melt(df, value_vars=['A', 'B', 'C'])\n",
    "pd.melt(df, value_vars=['key', 'A', 'B'])"
   ]
  },
  {
   "cell_type": "markdown",
   "metadata": {},
   "source": [
    "# 七、数据聚合与分组操作（Data Aggregation and Group Operations）\n",
    "\n",
    "- 摘自《Python for Data Analysis(Second Edition)》\n",
    "\n",
    "    - 详见【/Users/mac/Desktop/DS_Python/BasicStuff_Py/数据科学库/pandas初阶知识/数据聚合与分组操作.ipynb】"
   ]
  },
  {
   "cell_type": "markdown",
   "metadata": {},
   "source": [
    "# 八、绘图与可视化（Plotting and Visualization）\n",
    "\n",
    "IPython中执行 `%matplotlib`"
   ]
  },
  {
   "cell_type": "code",
   "execution_count": null,
   "metadata": {},
   "outputs": [],
   "source": [
    "import numpy as np\n",
    "import pandas as pd\n",
    "PREVIOUS_MAX_ROWS = pd.options.display.max_rows\n",
    "pd.options.display.max_rows = 20\n",
    "np.random.seed(12345)\n",
    "import matplotlib.pyplot as plt\n",
    "import matplotlib\n",
    "plt.rc('figure', figsize=(10, 6))\n",
    "np.set_printoptions(precision=4, suppress=True)"
   ]
  },
  {
   "cell_type": "markdown",
   "metadata": {},
   "source": [
    "## 1.图片与子图（Figures and Subplots）"
   ]
  },
  {
   "cell_type": "code",
   "execution_count": null,
   "metadata": {},
   "outputs": [],
   "source": [
    "fig = plt.figure()\n",
    "ax3 = fig.add_subplot(2, 2, 3)\n",
    "# 'k--' 绘制黑色分段线的style选项\n",
    "plt.plot(np.random.randn(50).cumsum(), 'k--') "
   ]
  },
  {
   "cell_type": "code",
   "execution_count": null,
   "metadata": {},
   "outputs": [],
   "source": [
    "fig = plt.figure()\n",
    "ax1 = fig.add_subplot(2, 2, 1)\n",
    "ax2 = fig.add_subplot(2, 2, 2)\n",
    "ax3 = fig.add_subplot(2, 2, 3)\n",
    "\n",
    "# 绘制直方图 -> hist,设置显示字体大小、颜色、画布分辨率\n",
    "_ = ax1.hist(np.random.randn(100), bins=20, color='k', alpha=0.3)\n",
    "# 绘制散点图 -> scatter\n",
    "ax2.scatter(np.arange(30), np.arange(30) + 3 * np.random.randn(30))\n",
    "# 在最后一个子图绘制\n",
    "plt.plot(np.random.randn(50).cumsum(), 'k--') "
   ]
  },
  {
   "cell_type": "code",
   "execution_count": null,
   "metadata": {},
   "outputs": [],
   "source": [
    "plt.close('all')"
   ]
  },
  {
   "cell_type": "code",
   "execution_count": null,
   "metadata": {},
   "outputs": [],
   "source": [
    "fig, axes = plt.subplots(2, 3)\n",
    "axes"
   ]
  },
  {
   "cell_type": "markdown",
   "metadata": {},
   "source": [
    "- <font color='red'>`pyplot.subplot` 选项</font>\n",
    "\n",
    "|参数|描述|\n",
    "|:--:|:--:|\n",
    "|nrows|子图的行数|\n",
    "|ncols|子图的列数|\n",
    "|sharex|所有子图使用相同的x轴刻度（调整xlim会影响所有子图）|\n",
    "|sharey|所有子图使用相同的y轴刻度（调整ylim会影响所有子图）|\n",
    "|subplot_kw|传入`add_subplot`的关键字参数字典，用于生成子图|\n",
    "|**fig_kw|在生成图片时使用的额外的关键字参数，例如`plt.subplots(2, 2, figsize=(8, 6))`|"
   ]
  },
  {
   "cell_type": "markdown",
   "metadata": {},
   "source": [
    "- 调整子图周围的间距（Adjusting the spacing around subplots）\n",
    "\n",
    "`subplots(left=None, bottom=None, right=None, top=None, wspace=None, hspace=None)`"
   ]
  },
  {
   "cell_type": "code",
   "execution_count": null,
   "metadata": {},
   "outputs": [],
   "source": [
    "fig, axes = plt.subplots(2, 2, sharex=True, sharey=True)\n",
    "for i in range(2):\n",
    "    for j in range(2):\n",
    "        axes[i, j].hist(np.random.randn(500), bins=50, color='k', alpha=0.5)\n",
    "plt.subplots_adjust(wspace=0, hspace=0)     # 调整高度、宽度直至为0"
   ]
  },
  {
   "cell_type": "markdown",
   "metadata": {},
   "source": [
    "### ①颜色、标记与线性类型（Colors, Markers, and Line Styles）"
   ]
  },
  {
   "cell_type": "code",
   "execution_count": null,
   "metadata": {},
   "outputs": [],
   "source": [
    "from numpy.random import randn\n",
    "plt.plot(randn(30).cumsum(), color='k', linestyle='dashed', marker='o')"
   ]
  },
  {
   "cell_type": "code",
   "execution_count": null,
   "metadata": {},
   "outputs": [],
   "source": [
    "data = np.random.randn(30).cumsum()\n",
    "plt.plot(data, 'k--', label='Default')\n",
    "plt.plot(data, 'k-', drawstyle='steps-post', label='steps-post')\n",
    "plt.legend(loc='best')      # 图例标签显示位置在顶部"
   ]
  },
  {
   "cell_type": "markdown",
   "metadata": {},
   "source": [
    "### ②刻度、标签和图例（Ticks, Labels, and Legends）"
   ]
  },
  {
   "cell_type": "markdown",
   "metadata": {},
   "source": [
    "- 设置标题、轴标签、刻度和刻度标签（Setting the title, axis labels, ticks, and ticklabels）"
   ]
  },
  {
   "cell_type": "code",
   "execution_count": null,
   "metadata": {},
   "outputs": [],
   "source": [
    "# 绘制随机漫步\n",
    "fig = plt.figure()\n",
    "ax = fig.add_subplot(1, 1, 1)\n",
    "ax.plot(np.random.randn(1000).cumsum())\n",
    "\n",
    "# 在数据范围内设置标签\n",
    "ticks = ax.set_xticks([0, 250, 500, 750, 1000])\n",
    "# 为设置好的标签赋值\n",
    "labels = ax.set_xticklabels(['one', 'two', 'three', 'four', 'five'],\n",
    "                            rotation=30, fontsize='small')      # rotation将X轴刻度标签旋转30度\n",
    "# 设置标题\n",
    "ax.set_title('My first matplotlib plot')\n",
    "# 设置x轴名称\n",
    "ax.set_xlabel('Stages')"
   ]
  },
  {
   "cell_type": "markdown",
   "metadata": {},
   "source": [
    "- 添加图例（Adding legends）"
   ]
  },
  {
   "cell_type": "code",
   "execution_count": null,
   "metadata": {},
   "outputs": [],
   "source": [
    "from numpy.random import randn\n",
    "fig = plt.figure()\n",
    "ax = fig.add_subplot(1, 1, 1)\n",
    "ax.plot(randn(1000).cumsum(), 'k', label='one')         # 直线\n",
    "ax.plot(randn(1000).cumsum(), 'k--', label='two')       # 虚线\n",
    "ax.plot(randn(1000).cumsum(), 'k.', label='three')      # 散点\n",
    "# 自动生成图例\n",
    "ax.legend(loc='best')"
   ]
  },
  {
   "cell_type": "markdown",
   "metadata": {},
   "source": [
    "### ③注释与子图加工（Annotations and Drawing on a Subplot）"
   ]
  },
  {
   "cell_type": "code",
   "execution_count": null,
   "metadata": {},
   "outputs": [],
   "source": [
    "from datetime import datetime\n",
    "\n",
    "fig = plt.figure()\n",
    "ax = fig.add_subplot(1, 1, 1)\n",
    "\n",
    "data = pd.read_csv('examples/spx.csv', index_col=0, parse_dates=True)\n",
    "spx = data['SPX']\n",
    "\n",
    "spx.plot(ax=ax, style='k-')\n",
    "\n",
    "crisis_data = [\n",
    "    (datetime(2007, 10, 11), 'Peak of bull market'),\n",
    "    (datetime(2008, 3, 12), 'Bear Stearns Fails'),\n",
    "    (datetime(2008, 9, 15), 'Lehman Bankruptcy')\n",
    "]\n",
    "\n",
    "for date, label in crisis_data:\n",
    "    ax.annotate(label, xy=(date, spx.asof(date) + 75),\n",
    "                xytext=(date, spx.asof(date) + 225),\n",
    "                arrowprops=dict(facecolor='black', headwidth=4, width=2,\n",
    "                                headlength=4),\n",
    "                horizontalalignment='left', verticalalignment='top')\n",
    "\n",
    "# Zoom in on 2007-2010\n",
    "ax.set_xlim(['1/1/2007', '1/1/2011'])\n",
    "ax.set_ylim([600, 1800])\n",
    "\n",
    "ax.set_title('Important dates in the 2008-2009 financial crisis')"
   ]
  },
  {
   "cell_type": "code",
   "execution_count": null,
   "metadata": {},
   "outputs": [],
   "source": [
    "fig = plt.figure()\n",
    "ax = fig.add_subplot(1, 1, 1)\n",
    "\n",
    "# 对长方形、圆形对象的引用都放置在图集 `matplotlib.patches`\n",
    "rect = plt.Rectangle((0.2, 0.75), 0.4, 0.15, color='k', alpha=0.3)\n",
    "circ = plt.Circle((0.7, 0.2), 0.15, color='b', alpha=0.3)\n",
    "pgon = plt.Polygon([[0.15, 0.15], [0.35, 0.4], [0.2, 0.6]],\n",
    "                   color='g', alpha=0.5)\n",
    "\n",
    "ax.add_patch(rect)\n",
    "ax.add_patch(circ)\n",
    "ax.add_patch(pgon)"
   ]
  },
  {
   "cell_type": "markdown",
   "metadata": {},
   "source": [
    "### ④将图片保存到文件（Saving Plots to File）\n",
    "\n",
    "<font color='red'>`savefig()`参数如下：</font>\n",
    "\n",
    "|参数|描述|\n",
    "|:--:|:--:|\n",
    "|fname|包含文件路径或Python文件型对象的字符串。图片格式是从文件扩展名中推断出来的|\n",
    "|dpi|每英寸点数的分辨率，默认情况下是100，可以设置|\n",
    "|facecolor，edgecolor|子图之外的图形背景颜色，默认情况下是'w'（白色）|\n",
    "|format|文件格式（'png', 'jpg', 'pdf', 'svg', 'ps', 'eps'...）|\n",
    "|bbox_inches|要保存的图片范围，如果传递'tight'，将会去除图片周围空白的部分|"
   ]
  },
  {
   "cell_type": "code",
   "execution_count": null,
   "metadata": {},
   "outputs": [],
   "source": [
    "# plt.savefig('figpath.png', dpi=400, bbox_inches='tight')\n",
    "\n",
    "# 不一定写入硬盘，可以将图片写入一切文件型对象中\n",
    "from io import BytesIO\n",
    "buffer = BytesIO()\n",
    "# plt.savefig(buffer)\n",
    "plot_data = buffer.getvalue()"
   ]
  },
  {
   "cell_type": "markdown",
   "metadata": {},
   "source": [
    "### ⑤matplotlib设置"
   ]
  },
  {
   "cell_type": "code",
   "execution_count": null,
   "metadata": {},
   "outputs": [],
   "source": [
    "# # 设置全局默认的字体大小\n",
    "# plt.rc('figure', figsize=(10, 10))\n",
    "\n",
    "# font_options = {'family' : 'monospace',\n",
    "#                 'weight' : 'bold',\n",
    "#                 'size'   : 'small'}\n",
    "# plt.rc('font', **font_options)"
   ]
  },
  {
   "cell_type": "markdown",
   "metadata": {},
   "source": [
    "## 2.使用pandas和seaborn绘图（Plotting with pandas and seaborn）"
   ]
  },
  {
   "cell_type": "markdown",
   "metadata": {},
   "source": [
    "### ①折线图（Line Plots）\n",
    "\n",
    "<font color='red'>`Series.plot`方法参数</font>\n",
    "\n",
    "|参数|描述|\n",
    "|:--:|:--:|\n",
    "|label|图例标签|\n",
    "|ax|绘图所用的matplotlib子图对象；如果未传值，则使用当前的matplotlib子图|\n",
    "|style|传给matplotlib的样式字符串，比如 `ko--`|\n",
    "|alpha|图片不透明度|\n",
    "|kind|可以是'area', 'bar', 'barh', 'density', 'hist', 'kde', 'line'|\n",
    "|logy|在y轴上使用对数缩放|\n",
    "|use_index|使用对象索引刻度标签|\n",
    "|rot|刻度标签的旋转（0到360）|\n",
    "|xticks|用于x轴刻度的值|\n",
    "|yticks|用于y轴刻度的值|\n",
    "|xlims|x轴的范围|\n",
    "|ylims|y轴的范围|\n",
    "|grid|展示轴网络（默认打开）|\n",
    "\n",
    "<font color='red'>DataFrame的plot参数</font>\n",
    "\n",
    "|参数|描述|\n",
    "|:--:|:--:|\n",
    "|subplots|将DataFrame的每一列绘制在独立的字图中|\n",
    "|sharex|如果subplots=True，则共享相同的x轴、刻度和范围|\n",
    "|sharey|如果subplots=True，则共享相同的y轴、刻度和范围|\n",
    "|figsize|用于生成图片尺寸的元组|\n",
    "|title|标题字符串|\n",
    "|legend|添加子图图例|\n",
    "|sort_columns|按字母顺序绘制各列|"
   ]
  },
  {
   "cell_type": "code",
   "execution_count": null,
   "metadata": {},
   "outputs": [],
   "source": [
    "s = pd.Series(np.random.randn(10).cumsum(), index=np.arange(0, 100, 10))\n",
    "s.plot()        # 默认为折线图"
   ]
  },
  {
   "cell_type": "code",
   "execution_count": null,
   "metadata": {},
   "outputs": [],
   "source": [
    "df = pd.DataFrame(np.random.randn(10, 4).cumsum(0),\n",
    "                  columns=['A', 'B', 'C', 'D'],\n",
    "                  index=np.arange(0, 100, 10))\n",
    "df.plot()   # 等价于： df.plot.line()"
   ]
  },
  {
   "cell_type": "markdown",
   "metadata": {},
   "source": [
    "### ②柱状图（）"
   ]
  },
  {
   "cell_type": "code",
   "execution_count": null,
   "metadata": {},
   "outputs": [],
   "source": [
    "fig, axes = plt.subplots(2, 1)\n",
    "data = pd.Series(np.random.rand(16), index=list('abcdefghijklmnop'))\n",
    "\n",
    "# 水平柱状图\n",
    "data.plot.bar(ax=axes[0], color='k', alpha=0.7)\n",
    "# 垂直柱状图\n",
    "data.plot.barh(ax=axes[1], color='k', alpha=0.7)"
   ]
  },
  {
   "cell_type": "code",
   "execution_count": null,
   "metadata": {},
   "outputs": [],
   "source": [
    "df = pd.DataFrame(np.random.rand(6, 4),\n",
    "                  index=['one', 'two', 'three', 'four', 'five', 'six'],\n",
    "                  columns=pd.Index(['A', 'B', 'C', 'D'], name='Genus'))\n",
    "df\n",
    "df.plot.bar()"
   ]
  },
  {
   "cell_type": "code",
   "execution_count": null,
   "metadata": {},
   "outputs": [],
   "source": [
    "df.plot.barh(stacked=True, alpha=0.5)"
   ]
  },
  {
   "cell_type": "code",
   "execution_count": null,
   "metadata": {},
   "outputs": [],
   "source": [
    "# 统计一天内日参加派对的人数，并根据派对的规模算出日收益\n",
    "\n",
    "tips = pd.read_csv('examples/tips.csv')\n",
    "party_counts = pd.crosstab(tips['day'], tips['size'])\n",
    "party_counts\n",
    "# Not many 1- and 6-person parties\n",
    "party_counts = party_counts.loc[:, 2:5]\n",
    "\n",
    "# Normalize to sum to 1\n",
    "party_pcts = party_counts.div(party_counts.sum(1), axis=0)\n",
    "party_pcts\n",
    "party_pcts.plot.bar()\n",
    "\n",
    "plt.close('all')"
   ]
  },
  {
   "cell_type": "code",
   "execution_count": null,
   "metadata": {},
   "outputs": [],
   "source": [
    "import seaborn as sns\n",
    "tips['tip_pct'] = tips['tip'] / (tips['total_bill'] - tips['tip'])\n",
    "print(tips.head(), '\\n')\n",
    "sns.barplot(x='tip_pct', y='day', data=tips, orient='h')\n",
    "\n",
    "plt.close('all')\n",
    "\n",
    "# 改变外观\n",
    "sns.set(style=\"whitegrid\")"
   ]
  },
  {
   "cell_type": "markdown",
   "metadata": {},
   "source": [
    "## 3.直方图和密度图（Histograms and Density Plots）"
   ]
  },
  {
   "cell_type": "code",
   "execution_count": null,
   "metadata": {},
   "outputs": [],
   "source": [
    "# 直方图\n",
    "tips['tip_pct'].plot.hist(bins=50)"
   ]
  },
  {
   "cell_type": "code",
   "execution_count": null,
   "metadata": {},
   "outputs": [],
   "source": [
    "# 内核密度图（KDE）\n",
    "tips['tip_pct'].plot.density()"
   ]
  },
  {
   "cell_type": "code",
   "execution_count": null,
   "metadata": {},
   "outputs": [],
   "source": [
    "# 集成标准化直方图和连续密度估计\n",
    "comp1 = np.random.normal(0, 1, size=200)\n",
    "comp2 = np.random.normal(10, 2, size=200)\n",
    "values = pd.Series(np.concatenate([comp1, comp2]))\n",
    "sns.distplot(values, bins=100, color='k')"
   ]
  },
  {
   "cell_type": "markdown",
   "metadata": {},
   "source": [
    "## 4.散点图或点图（Scatter or Point Plots）"
   ]
  },
  {
   "cell_type": "code",
   "execution_count": null,
   "metadata": {},
   "outputs": [],
   "source": [
    "macro = pd.read_csv('examples/macrodata.csv')\n",
    "data = macro[['cpi', 'm1', 'tbilrate', 'unemp']]\n",
    "trans_data = np.log(data).diff().dropna()\n",
    "trans_data[-5:]"
   ]
  },
  {
   "cell_type": "code",
   "execution_count": null,
   "metadata": {},
   "outputs": [],
   "source": [
    "plt.figure()\n",
    "\n",
    "# 绘制散点图并拟合出一条渐进回归线\n",
    "sns.regplot('m1', 'unemp', data=trans_data)\n",
    "plt.title('Changes in log %s versus log %s' % ('m1', 'unemp'))\n",
    "# 设置画布参数，绘制回归/散点图\n",
    "sns.pairplot(trans_data, diag_kind='kde', plot_kws={'alpha': 0.2})"
   ]
  },
  {
   "cell_type": "markdown",
   "metadata": {},
   "source": [
    "## 5.分面网格和分类数据（Facet Grids and Categorical Data）\n",
    "\n",
    "`sns.factorplot()`"
   ]
  },
  {
   "cell_type": "code",
   "execution_count": 222,
   "metadata": {},
   "outputs": [
    {
     "name": "stderr",
     "output_type": "stream",
     "text": [
      "/Users/Shared/anacoda/anaconda3/lib/python3.9/site-packages/seaborn/categorical.py:3717: UserWarning: The `factorplot` function has been renamed to `catplot`. The original name will be removed in a future release. Please update your code. Note that the default `kind` in `factorplot` (`'point'`) has changed `'strip'` in `catplot`.\n",
      "  warnings.warn(msg)\n"
     ]
    },
    {
     "data": {
      "text/plain": [
       "<seaborn.axisgrid.FacetGrid at 0x7fc268635730>"
      ]
     },
     "execution_count": 222,
     "metadata": {},
     "output_type": "execute_result"
    },
    {
     "data": {
      "image/png": "[encoded data removed]",
      "text/plain": [
       "<Figure size 794.475x360 with 2 Axes>"
      ]
     },
     "metadata": {},
     "output_type": "display_data"
    }
   ],
   "source": [
    "sns.factorplot(x='day', y='tip_pct', hue='time', col='smoker',\n",
    "               kind='bar', data=tips[tips.tip_pct < 1])"
   ]
  },
  {
   "cell_type": "code",
   "execution_count": 223,
   "metadata": {},
   "outputs": [
    {
     "name": "stderr",
     "output_type": "stream",
     "text": [
      "/Users/Shared/anacoda/anaconda3/lib/python3.9/site-packages/seaborn/categorical.py:3717: UserWarning: The `factorplot` function has been renamed to `catplot`. The original name will be removed in a future release. Please update your code. Note that the default `kind` in `factorplot` (`'point'`) has changed `'strip'` in `catplot`.\n",
      "  warnings.warn(msg)\n"
     ]
    },
    {
     "data": {
      "text/plain": [
       "<seaborn.axisgrid.FacetGrid at 0x7fc2667e3670>"
      ]
     },
     "execution_count": 223,
     "metadata": {},
     "output_type": "execute_result"
    },
    {
     "data": {
      "image/png": "[encoded data removed]",
      "text/plain": [
       "<Figure size 720x720 with 4 Axes>"
      ]
     },
     "metadata": {},
     "output_type": "display_data"
    }
   ],
   "source": [
    "sns.factorplot(x='day', y='tip_pct', row='time',\n",
    "               col='smoker',\n",
    "               kind='bar', data=tips[tips.tip_pct < 1])"
   ]
  },
  {
   "cell_type": "markdown",
   "metadata": {},
   "source": [
    "## 6.其他Python可视化工具\n",
    "\n",
    "- [Bokeh](http://bokeh.pydata.orh/)\n",
    "\n",
    "- [Plotly](https://github.com/plotly/plotly.py)"
   ]
  },
  {
   "cell_type": "markdown",
   "metadata": {},
   "source": [
    "# 九、时间序列（Time Series）\n",
    "\n",
    "- 摘自《Python for Data Analysis(Second Edition)》\n",
    "\n",
    "    - 详见【/Users/mac/Desktop/DS_Python/BasicStuff_Py/数据科学库/pandas初阶知识/时间序列.ipynb】"
   ]
  },
  {
   "cell_type": "markdown",
   "metadata": {},
   "source": [
    "# 十、pandas高级应用（Advanced pandas）\n",
    "\n",
    "- 摘自《Python for Data Analysis(Second Edition)》\n",
    "\n",
    "    - 详见【/Users/mac/Desktop/DS_Python/BasicStuff_Py/数据科学库/pandas高阶应用】\n",
    "\n",
    "1. 分类数据\n",
    "2. Python建模库介绍\n",
    "3. 数据分析示例"
   ]
  },
  {
   "cell_type": "code",
   "execution_count": null,
   "metadata": {},
   "outputs": [],
   "source": []
  }
 ],
 "metadata": {
  "kernelspec": {
   "display_name": "deeplearning",
   "language": "python",
   "name": "python3"
  },
  "language_info": {
   "codemirror_mode": {
    "name": "ipython",
    "version": 3
   },
   "file_extension": ".py",
   "mimetype": "text/x-python",
   "name": "python",
   "nbconvert_exporter": "python",
   "pygments_lexer": "ipython3",
   "version": "3.9.12"
  },
  "orig_nbformat": 4,
  "vscode": {
   "interpreter": {
    "hash": "a3f599b3f50d166f8188fd373df540ff51a2223b7cd2b97c190a7287b10e7852"
   }
  }
 },
 "nbformat": 4,
 "nbformat_minor": 2
}
